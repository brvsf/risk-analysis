{
 "cells": [
  {
   "cell_type": "markdown",
   "metadata": {},
   "source": [
    "# Fraud Analysis - Cloudwalk Case"
   ]
  },
  {
   "cell_type": "markdown",
   "metadata": {},
   "source": [
    "### Imports"
   ]
  },
  {
   "cell_type": "code",
   "execution_count": 86,
   "metadata": {},
   "outputs": [],
   "source": [
    "import pandas as pd\n",
    "import numpy as np\n",
    "import matplotlib.pyplot as plt\n",
    "import matplotlib.dates as mdates\n",
    "import seaborn as sns\n",
    "from plotly.subplots import make_subplots\n",
    "import plotly.graph_objects as go\n",
    "import plotly.express as px\n",
    "\n",
    "from statsmodels.stats.proportion import proportions_ztest"
   ]
  },
  {
   "cell_type": "code",
   "execution_count": 2,
   "metadata": {},
   "outputs": [
    {
     "data": {
      "text/html": [
       "<div>\n",
       "<style scoped>\n",
       "    .dataframe tbody tr th:only-of-type {\n",
       "        vertical-align: middle;\n",
       "    }\n",
       "\n",
       "    .dataframe tbody tr th {\n",
       "        vertical-align: top;\n",
       "    }\n",
       "\n",
       "    .dataframe thead th {\n",
       "        text-align: right;\n",
       "    }\n",
       "</style>\n",
       "<table border=\"1\" class=\"dataframe\">\n",
       "  <thead>\n",
       "    <tr style=\"text-align: right;\">\n",
       "      <th></th>\n",
       "      <th>transaction_id</th>\n",
       "      <th>merchant_id</th>\n",
       "      <th>user_id</th>\n",
       "      <th>card_number</th>\n",
       "      <th>transaction_date</th>\n",
       "      <th>transaction_amount</th>\n",
       "      <th>device_id</th>\n",
       "      <th>has_cbk</th>\n",
       "    </tr>\n",
       "  </thead>\n",
       "  <tbody>\n",
       "    <tr>\n",
       "      <th>0</th>\n",
       "      <td>21320398</td>\n",
       "      <td>29744</td>\n",
       "      <td>97051</td>\n",
       "      <td>434505******9116</td>\n",
       "      <td>2019-12-01T23:16:32.812632</td>\n",
       "      <td>374.56</td>\n",
       "      <td>285475.0</td>\n",
       "      <td>False</td>\n",
       "    </tr>\n",
       "    <tr>\n",
       "      <th>1</th>\n",
       "      <td>21320399</td>\n",
       "      <td>92895</td>\n",
       "      <td>2708</td>\n",
       "      <td>444456******4210</td>\n",
       "      <td>2019-12-01T22:45:37.873639</td>\n",
       "      <td>734.87</td>\n",
       "      <td>497105.0</td>\n",
       "      <td>True</td>\n",
       "    </tr>\n",
       "    <tr>\n",
       "      <th>2</th>\n",
       "      <td>21320400</td>\n",
       "      <td>47759</td>\n",
       "      <td>14777</td>\n",
       "      <td>425850******7024</td>\n",
       "      <td>2019-12-01T22:22:43.021495</td>\n",
       "      <td>760.36</td>\n",
       "      <td>NaN</td>\n",
       "      <td>False</td>\n",
       "    </tr>\n",
       "  </tbody>\n",
       "</table>\n",
       "</div>"
      ],
      "text/plain": [
       "   transaction_id  merchant_id  user_id       card_number  \\\n",
       "0        21320398        29744    97051  434505******9116   \n",
       "1        21320399        92895     2708  444456******4210   \n",
       "2        21320400        47759    14777  425850******7024   \n",
       "\n",
       "             transaction_date  transaction_amount  device_id  has_cbk  \n",
       "0  2019-12-01T23:16:32.812632              374.56   285475.0    False  \n",
       "1  2019-12-01T22:45:37.873639              734.87   497105.0     True  \n",
       "2  2019-12-01T22:22:43.021495              760.36        NaN    False  "
      ]
     },
     "execution_count": 2,
     "metadata": {},
     "output_type": "execute_result"
    }
   ],
   "source": [
    "# Taking a look at the data\n",
    "data = pd.read_csv('transactional-sample.csv')\n",
    "\n",
    "data.head(3)"
   ]
  },
  {
   "cell_type": "markdown",
   "metadata": {},
   "source": [
    "## EDA - Exploratory Data Analysis"
   ]
  },
  {
   "cell_type": "markdown",
   "metadata": {},
   "source": [
    "### Understanding the data better"
   ]
  },
  {
   "cell_type": "markdown",
   "metadata": {},
   "source": [
    "#### Dataset Structure"
   ]
  },
  {
   "cell_type": "markdown",
   "metadata": {},
   "source": [
    "**Key observations**\n",
    "* The dataset has **3199** transactions with **8** columns.\n",
    "* The only column with missing values is **`device_id`** (*830 missing values*).\n",
    "* The dataset has no duplicated values\n",
    "* The transactions happend between **2019-11-01 01:27:15** and **2019-12-01 23:16:32**\n",
    "\n",
    "**Column descriptions:**\n",
    "\n",
    "* **`transaction_id`**: Unique identifier for each transaction (*int64*).\n",
    "* **`merchant_id`**: Unique identifier for each merchant (*int64*).\n",
    "* **`user_id`**: Unique identifier for each customer (*int64*).\n",
    "* **`card_number`**: The card number used for the transaction (*object*).\n",
    "* **`transaction_date`**: The date when the transaction ocurred (*object*).\n",
    "* **`transaction_amount`**: The amount spent in the transaction (*float64*).\n",
    "* **`device_id`**: Unique identifier of the device used for the transaction (*float64*).\n",
    "* **`has_cbk`**: Boolean flag indicating if the transaction resulted in a chargeback (*bool*).\n",
    "\n",
    "**Closer look in the identification columns:**\n",
    "\n",
    "* **`merchant_id`**: **1756** unique merchants.\n",
    "* **`user_id`**: **2704** unique users.\n",
    "* **`device_id`** **1996** unique devices.\n",
    "\n",
    "**Closer look in the fraud column: `has_cbk`**\n",
    "\n",
    "* **2080** (*~87.8%*) transactions flagged as non-fraud chargeback.\n",
    "* **391** (*~12.2%*) transactions flagged fraud chargeback.\n"
   ]
  },
  {
   "cell_type": "code",
   "execution_count": 3,
   "metadata": {},
   "outputs": [
    {
     "name": "stdout",
     "output_type": "stream",
     "text": [
      "Number of transactions: 3199.\n",
      "------------------------------------------------------------------------------------------------------------------------------------------------------\n",
      "Columns in the dataset ['transaction_id', 'merchant_id', 'user_id', 'card_number', 'transaction_date', 'transaction_amount', 'device_id', 'has_cbk'].\n"
     ]
    }
   ],
   "source": [
    "print(f\"Number of transactions: {len(data)}.\")\n",
    "print('-'*150)\n",
    "print(f\"Columns in the dataset {list(data.columns)}.\")"
   ]
  },
  {
   "cell_type": "code",
   "execution_count": 4,
   "metadata": {},
   "outputs": [
    {
     "name": "stdout",
     "output_type": "stream",
     "text": [
      "<class 'pandas.core.frame.DataFrame'>\n",
      "RangeIndex: 3199 entries, 0 to 3198\n",
      "Data columns (total 8 columns):\n",
      " #   Column              Non-Null Count  Dtype  \n",
      "---  ------              --------------  -----  \n",
      " 0   transaction_id      3199 non-null   int64  \n",
      " 1   merchant_id         3199 non-null   int64  \n",
      " 2   user_id             3199 non-null   int64  \n",
      " 3   card_number         3199 non-null   object \n",
      " 4   transaction_date    3199 non-null   object \n",
      " 5   transaction_amount  3199 non-null   float64\n",
      " 6   device_id           2369 non-null   float64\n",
      " 7   has_cbk             3199 non-null   bool   \n",
      "dtypes: bool(1), float64(2), int64(3), object(2)\n",
      "memory usage: 178.2+ KB\n"
     ]
    }
   ],
   "source": [
    "data.info() # Taking a look general informations about the data"
   ]
  },
  {
   "cell_type": "code",
   "execution_count": 5,
   "metadata": {},
   "outputs": [
    {
     "data": {
      "text/plain": [
       "transaction_id          0\n",
       "merchant_id             0\n",
       "user_id                 0\n",
       "card_number             0\n",
       "transaction_date        0\n",
       "transaction_amount      0\n",
       "device_id             830\n",
       "has_cbk                 0\n",
       "dtype: int64"
      ]
     },
     "execution_count": 5,
     "metadata": {},
     "output_type": "execute_result"
    }
   ],
   "source": [
    "data.isna().sum() # Checking for missing values"
   ]
  },
  {
   "cell_type": "code",
   "execution_count": 6,
   "metadata": {},
   "outputs": [
    {
     "data": {
      "text/plain": [
       "np.int64(0)"
      ]
     },
     "execution_count": 6,
     "metadata": {},
     "output_type": "execute_result"
    }
   ],
   "source": [
    "data.duplicated().sum() # Checking for duplicates"
   ]
  },
  {
   "cell_type": "code",
   "execution_count": 7,
   "metadata": {},
   "outputs": [
    {
     "name": "stdout",
     "output_type": "stream",
     "text": [
      "Data type of the transaction_date column after transformation: datetime64[ns]\n",
      "First day of transaction sample: 2019-11-01 01:27:15.811098.\n",
      "Last day of transaction sample: 2019-12-01 23:16:32.812632.\n"
     ]
    }
   ],
   "source": [
    "# It looks like the date column is a Object type, let's transform it to a datetime.\n",
    "data['transaction_date'] = pd.to_datetime(data['transaction_date'], format=\"%Y-%m-%dT%H:%M:%S.%f\")\n",
    "\n",
    "print(f\"Data type of the transaction_date column after transformation: {data['transaction_date'].dtype}\")\n",
    "\n",
    "print(f\"First day of transaction sample: {data['transaction_date'].min()}.\")\n",
    "print(f\"Last day of transaction sample: {data['transaction_date'].max()}.\")"
   ]
  },
  {
   "cell_type": "code",
   "execution_count": 8,
   "metadata": {},
   "outputs": [
    {
     "data": {
      "text/plain": [
       "has_cbk\n",
       "False    0.878\n",
       "True     0.122\n",
       "Name: proportion, dtype: float64"
      ]
     },
     "execution_count": 8,
     "metadata": {},
     "output_type": "execute_result"
    }
   ],
   "source": [
    "np.round(data['has_cbk'].value_counts(normalize=True), 3) # Checking the proportion of fraud transactions"
   ]
  },
  {
   "cell_type": "code",
   "execution_count": 9,
   "metadata": {},
   "outputs": [
    {
     "name": "stdout",
     "output_type": "stream",
     "text": [
      "has_cbk\n",
      "False    2808\n",
      "True      391\n",
      "Name: count, dtype: int64\n"
     ]
    },
    {
     "data": {
      "image/png": "[encoded data removed]",
      "text/plain": [
       "<Figure size 800x500 with 1 Axes>"
      ]
     },
     "metadata": {},
     "output_type": "display_data"
    }
   ],
   "source": [
    "print(data['has_cbk'].value_counts())\n",
    "\n",
    "fig = plt.figure(figsize=(8, 5))\n",
    "ax = sns.barplot(x=data['has_cbk'], y=data['has_cbk'].value_counts())\n",
    "\n",
    "plt.title('Number of transactions with and without fraud chargeback')\n",
    "plt.ylabel('Number of transactions')\n",
    "plt.xlabel('Has Chargeback fraud')\n",
    "\n",
    "plt.xticks(ticks=[0, 1], labels=['No', 'Yes'])\n",
    "\n",
    "# Adding the number of transactions in each bar\n",
    "for p in ax.patches:\n",
    "    ax.annotate(f'{p.get_height():.0f}',\n",
    "                (p.get_x() + p.get_width() / 2., p.get_height()),\n",
    "                ha='center', va='center',\n",
    "                fontsize=12, color='black',\n",
    "                xytext=(0, 5), textcoords='offset points')\n",
    "\n",
    "plt.show()"
   ]
  },
  {
   "cell_type": "code",
   "execution_count": 10,
   "metadata": {},
   "outputs": [
    {
     "name": "stdout",
     "output_type": "stream",
     "text": [
      "merchant_id: 1756 unique values.\n",
      "user_id: 2704 unique values.\n",
      "device_id: 1996 unique values.\n"
     ]
    }
   ],
   "source": [
    "# checking for unique values in identification columns\n",
    "for col in ['merchant_id', 'user_id', 'device_id']:\n",
    "    print(f\"{col}: {data[col].nunique()} unique values.\")"
   ]
  },
  {
   "cell_type": "markdown",
   "metadata": {},
   "source": [
    "#### Statistical Analysis"
   ]
  },
  {
   "cell_type": "markdown",
   "metadata": {},
   "source": [
    "**`transaction_amount` Summary statisticas**:\n",
    "\n",
    "* **Count**: The dataset contains **3199** transactions\n",
    "* **Mean**: The average transaction amount is **$767.81**\n",
    "* **Std dev**: A high standard deviation (**$889.10**) indicates significant variability in transaction amounts.\n",
    "* **Min**: The smallest transaction recorded is **$1.22**\n",
    "* **25% (First Quartile)**: 25% of transactions are below **$205.23**.\n",
    "* **50% (Median)**: The middle transaction amount is **$415.94**.\n",
    "* **75% (Third Quartile)**: 75% of transactions are below **$981.68**.\n",
    "* **Max**: The largest transaction recorded is **$4097.21**."
   ]
  },
  {
   "cell_type": "code",
   "execution_count": 11,
   "metadata": {},
   "outputs": [
    {
     "name": "stdout",
     "output_type": "stream",
     "text": [
      "count    3199.000000\n",
      "mean      767.812904\n",
      "std       889.095904\n",
      "min         1.220000\n",
      "25%       205.235000\n",
      "50%       415.940000\n",
      "75%       981.680000\n",
      "max      4097.210000\n",
      "Name: transaction_amount, dtype: float64\n"
     ]
    }
   ],
   "source": [
    "print(data['transaction_amount'].describe()) # Taking a look at the basic statistics of the transaction amount column"
   ]
  },
  {
   "cell_type": "markdown",
   "metadata": {},
   "source": [
    "**Correlations**\n",
    "\n",
    "The heatmap bellow visualizes the correlation between various features in the dataset. Here are the key insights:\n",
    "\n",
    "- **`transaction_date` has a strong negative correlation (-0.94) with `transaction_id`**  \n",
    "  This likely suggests that `transaction_id` is sequential and increases over time, leading to an inverse relationship with transaction dates.  \n",
    "  **This is not so relevant for us**, as it does not provide meaningful insights into chargeback fraud.\n",
    "\n",
    "- **`has_cbk` (chargeback indicator) has the highest correlation with `transaction_amount` (0.29)**  \n",
    "  Fraudulent transactions tend to have higher amounts, which aligns with our previous findings that fraud-related transactions have a higher mean value.  \n",
    "  **This is highly relevant, as it suggests that high-value transactions may have a greater likelihood of being fraudulent.**\n",
    "\n",
    "- **Other features have weak correlations with each other**  \n",
    "  Most values are close to 0, indicating little to no linear relationship between these variables.  \n",
    "  **This is not very relevant, as weak correlations suggest these features do not directly impact chargeback fraud detection.**\n",
    "\n",
    "- **Slight positive correlation (0.11) between `transaction_date` and `has_cbk`**  \n",
    "  This may suggest that fraud patterns fluctuate over time, but further investigation is needed.  \n",
    "  **This could be relevant depending on whether fraud occurs more frequently at certain times. It may indicate seasonality in fraudulent transactions.**\n",
    "\n",
    "- **Minimal correlation between `device_id` and fraud occurrence (-0.05)**  \n",
    "  This suggests that the device used for the transaction is not a strong fraud indicator in this dataset.  \n",
    "  **This is not relevant for our analysis, as device information does not seem to help in detecting chargeback fraud.**\n"
   ]
  },
  {
   "cell_type": "code",
   "execution_count": 12,
   "metadata": {},
   "outputs": [
    {
     "data": {
      "image/png": "[encoded data removed]",
      "text/plain": [
       "<Figure size 640x480 with 2 Axes>"
      ]
     },
     "metadata": {},
     "output_type": "display_data"
    }
   ],
   "source": [
    "sns.heatmap(\n",
    "    data.drop(columns=['card_number']).corr(),\n",
    "    annot=True,\n",
    "    cmap='coolwarm',\n",
    "    fmt=\".2f\",\n",
    "    linewidths=0.5,\n",
    "    mask=np.triu(data.drop(columns=['card_number']).corr())\n",
    ")\n",
    "\n",
    "plt.title('Correlation matrix')\n",
    "\n",
    "plt.show()"
   ]
  },
  {
   "cell_type": "markdown",
   "metadata": {},
   "source": [
    "#### Distribution and pattern analysis"
   ]
  },
  {
   "cell_type": "markdown",
   "metadata": {},
   "source": [
    "##### Diving deeper: **`transaction_amount`**"
   ]
  },
  {
   "cell_type": "markdown",
   "metadata": {},
   "source": [
    "**Mean comparison**: Comparison of the mean transaction amount across all transactions, as well as segmented by fraudulent and non-fraudulent transactions.\n",
    "\n",
    "```\n",
    "All transactions: 767.813\n",
    "Non-fraudulent transactions: 672.324\n",
    "Fraudulent transactions: 1453.572\n",
    "```\n",
    "**Key Insights**:\n",
    "* Fraudulent transactions have a significantly higher mean transaction amount (**$1453.57**) compared to non-fraudulent transactions (**$672.32**).\n",
    "* The overall mean transaction amount is **$767.81**, indicating that fraud cases may be skewing the overall average upwards."
   ]
  },
  {
   "cell_type": "markdown",
   "metadata": {},
   "source": [
    "**Median comparison**: Comparison of median transaction amount accross all transactions, fraudulent, and non-fraudulent transactions.\n",
    "\n",
    "```\n",
    "All transactions: 415.94\n",
    "Non-fraudulent transactions: 360.315\n",
    "Fraudulent transactions: 999.47\n",
    "```\n",
    "**Key Insights**:\n",
    "* The median transaction amount for fraudulent transactions (**$999.47**) is much higher than for non-fraudulent transactions (**$360.32**), reinforcing the pattern seen in the mean comparison.\n",
    "* The overall median transaction amount is (**$415.94**), which is lower than the mean, suggesting a right-skewed distribution.\n"
   ]
  },
  {
   "cell_type": "markdown",
   "metadata": {},
   "source": [
    "**Standard Deviation comparison**: Comparison of standard deviation accross all transactions, fraudulent, and non-fraudulent transactions.\n",
    "\n",
    "```\n",
    "All transactions: 889.096\n",
    "Non-fraudulent transactions: 797.464\n",
    "Fraudulent transactions: 1169.491\n",
    "```\n",
    "**Key Insights**:\n",
    "* Fraudulent transactions exhibit a much higher standard deviation (**$1169.49**), indicating greater variability in fraudulent transaction amounts.\n",
    "* Non-fraudulent transactions have a lower standard deviation (**$797.46**), suggesting more consistency in legitimate spending patterns.\n",
    "* The overall standard deviation is **$889.10**, again reflecting the impact of fraudulent transactions on the dataset's variability."
   ]
  },
  {
   "cell_type": "markdown",
   "metadata": {},
   "source": [
    "**Possible suspicious behaviours:**\n",
    "* Fraudulent transactions tend to have higher amounts.\n",
    "* High variability may indicate attempts to avoid predictable patterns, making automated detection more challenging."
   ]
  },
  {
   "cell_type": "code",
   "execution_count": 13,
   "metadata": {},
   "outputs": [],
   "source": [
    "fraudulent_transactions = data[data['has_cbk']==True]\n",
    "non_fraudulent_transactions = data[data['has_cbk']==False]"
   ]
  },
  {
   "cell_type": "code",
   "execution_count": 14,
   "metadata": {},
   "outputs": [
    {
     "data": {
      "image/png": "[encoded data removed]",
      "text/plain": [
       "<Figure size 1800x1000 with 4 Axes>"
      ]
     },
     "metadata": {},
     "output_type": "display_data"
    }
   ],
   "source": [
    "# Creating a function to plot the distribution of the transaction amount\n",
    "def plot_transaction_amount_dist(data, ax=None, figsize=(8, 5), type='hist', color=None):\n",
    "    if type == 'hist':\n",
    "        sns.histplot(data['transaction_amount'], bins=50, kde=True, ax=ax, color=color)\n",
    "    elif type == 'kde':\n",
    "        sns.kdeplot(data['transaction_amount'], ax=ax, color=color)\n",
    "\n",
    "\n",
    "    #sns.histplot(data['transaction_amount'], bins=50, kde=True, ax=ax)\n",
    "\n",
    "# Plotting the distribution of the transaction amount\n",
    "fig, axes = plt.subplots(2, 2, figsize=(18, 10))\n",
    "\n",
    "# Plotting the distribution of the transaction amount for all transactions\n",
    "plot_transaction_amount_dist(data, ax=axes[0, 0])\n",
    "axes[0, 0].set_title(\"All transactions (Histogram)\")\n",
    "axes[0, 0].set_xlabel(\"Transaction amount\")\n",
    "axes[0, 0].set_ylabel(\"Number of transactions\")\n",
    "\n",
    "# Plotting the distribution of the transaction amount for non-fraudulent transactions\n",
    "plot_transaction_amount_dist(non_fraudulent_transactions, ax=axes[0, 1])\n",
    "axes[0, 1].set_title(\"Non-Fraudulent transactions (Histogram)\")\n",
    "axes[0, 1].set_xlabel(\"Transaction amount\")\n",
    "axes[0, 1].set_ylabel(\"Number of transactions\")\n",
    "\n",
    "# Plotting the distribution of the transaction amount for fraudulent transactions\n",
    "plot_transaction_amount_dist(fraudulent_transactions, ax=axes[1, 0])\n",
    "axes[1, 0].set_title(\"Fraudulent transactions (Histogram)\")\n",
    "axes[1, 0].set_xlabel(\"Transaction amount\")\n",
    "axes[1, 0].set_ylabel(\"Number of transactions\")\n",
    "\n",
    "plot_transaction_amount_dist(fraudulent_transactions, ax=axes[1, 1], type='kde')\n",
    "plot_transaction_amount_dist(non_fraudulent_transactions, ax=axes[1, 1], type='kde', color='green')\n",
    "axes[1, 1].set_title(\"Fraudulent and non-fraudulent transactions (KDE)\")\n",
    "axes[1, 1].set_xlabel(\"Transaction amount\")\n",
    "axes[1, 1].set_ylabel(\"Density\")\n",
    "\n",
    "plt.tight_layout()\n",
    "plt.show()"
   ]
  },
  {
   "cell_type": "code",
   "execution_count": 15,
   "metadata": {},
   "outputs": [
    {
     "name": "stdout",
     "output_type": "stream",
     "text": [
      "Mean comparison between all transactions, fraudulent and non-fraudulent transactions:\n",
      "All transactions: 767.813\n",
      "Non-fraudulent transactions: 672.324\n",
      "Fraudulent transactions: 1453.572\n",
      "----------------------------------------------------------------------------------------------------\n",
      "Standard deviation comparison between all transactions, fraudulent and non-fraudulent transactions:\n",
      "All transactions: 889.096\n",
      "Non-fraudulent transactions: 797.464\n",
      "Fraudulent transactions: 1169.491\n",
      "----------------------------------------------------------------------------------------------------\n",
      "Median comparison between all transactions, fraudulent and non-fraudulent transactions:\n",
      "All transactions: 415.94\n",
      "Non-fraudulent transactions: 360.315\n",
      "Fraudulent transactions: 999.47\n"
     ]
    }
   ],
   "source": [
    "# Getting some statistics about the fraudulent transactions\n",
    "print(\"Mean comparison between all transactions, fraudulent and non-fraudulent transactions:\")\n",
    "print(f\"All transactions: {round(data['transaction_amount'].mean(), 3)}\")\n",
    "print(f\"Non-fraudulent transactions: {round(non_fraudulent_transactions['transaction_amount'].mean(), 3)}\")\n",
    "print(f\"Fraudulent transactions: {round(fraudulent_transactions['transaction_amount'].mean(), 3)}\")\n",
    "\n",
    "print(\"-\"*100)\n",
    "\n",
    "print(\"Standard deviation comparison between all transactions, fraudulent and non-fraudulent transactions:\")\n",
    "print(f\"All transactions: {round(data['transaction_amount'].std(), 3)}\")\n",
    "print(f\"Non-fraudulent transactions: {round(non_fraudulent_transactions['transaction_amount'].std(), 3)}\")\n",
    "print(f\"Fraudulent transactions: {round(fraudulent_transactions['transaction_amount'].std(), 3)}\")\n",
    "\n",
    "print(\"-\"*100)\n",
    "\n",
    "print(\"Median comparison between all transactions, fraudulent and non-fraudulent transactions:\")\n",
    "print(f\"All transactions: {round(data['transaction_amount'].median(), 3)}\")\n",
    "print(f\"Non-fraudulent transactions: {round(non_fraudulent_transactions['transaction_amount'].median(), 3)}\")\n",
    "print(f\"Fraudulent transactions: {round(fraudulent_transactions['transaction_amount'].median(), 3)}\")"
   ]
  },
  {
   "cell_type": "markdown",
   "metadata": {},
   "source": [
    "##### Diving deeper:  **`user_id`**, **`merchant_id`** and **`device_id`**"
   ]
  },
  {
   "cell_type": "markdown",
   "metadata": {},
   "source": [
    "##### Users analysis"
   ]
  },
  {
   "cell_type": "markdown",
   "metadata": {},
   "source": [
    "**Top 3** users with the most total transactions\n",
    "\n",
    "```\n",
    "User ID: 11750 - Transactions: 31\n",
    "User ID: 91637 - Transactions: 22\n",
    "User ID: 79054 - Transactions: 17\n",
    "```\n",
    "\n",
    "**Top 3** users with the most fraudulent transactions\n",
    "```\n",
    "User ID: 11750 - Fraudulent transactions: 25\n",
    "User ID: 91637 - Fraudulent transactions: 19\n",
    "User ID: 79054 - Fraudulent transactions: 15\n",
    "```\n",
    "**Key Insights:**\n",
    "* The user with the most transactions (11750) also has the highest number of fraudulent transactions (25), suggesting suspicious activity.\n",
    "* Users 91637 and 79054 follow a similar trend, with 19 and 15 fraudulent transactions, respectively.\n",
    "* Fraudulent transactions appear concentrated among certain users, which could indicate organized fraudulent behavior.\n",
    "\n",
    "**Top 3** users with the highest fraud rate (that isn't 100%)\n",
    "```\n",
    "User ID: 78262 - Fraud rate: 0.92 - Total transactions: 13\n",
    "User ID: 79054 - Fraud rate: 0.88 - Total transactions: 17\n",
    "User ID: 91637 - Fraud rate: 0.86 - Total transactions: 22\n",
    "```\n",
    "**Key Insights:**\n",
    "* 120 users have 100% fraudulent transactions\n",
    "* Users 78262, 79054 and 91637 has an extremely high fraud rate (92%, 88% and 86% respectively), indicating potential fraudsters.\n",
    "* A high fraud rate in combination with a high number of transactions could be a strong indicator of fraudulent activity.\n",
    "\n",
    "**Possible suspicious patterns:**\n",
    "* Some fraudsters are repeat offenders and tend to make a high number of transactions.\n",
    "* The results suggest that fraudsters tend to carry out multiple transactions in a sequence (It is possible that fraudsters are testing cards or making small transactions before conducting larger ones).\n",
    "\n",
    "**Recommendations:**\n",
    "* Check the user's fraud history. If the user has a record of one or more fraudulent transactions, we should monitor them closely.\n",
    "* Be cautious of multiple transactions in a sequence. Consider implementing security measures to temporarily block users after 3 or more transactions within a short period of time."
   ]
  },
  {
   "cell_type": "code",
   "execution_count": 16,
   "metadata": {},
   "outputs": [
    {
     "data": {
      "image/png": "[encoded data removed]",
      "text/plain": [
       "<Figure size 1800x500 with 2 Axes>"
      ]
     },
     "metadata": {},
     "output_type": "display_data"
    }
   ],
   "source": [
    "users = data['user_id'].value_counts().sort_values(ascending=False)\n",
    "users_fraud = fraudulent_transactions['user_id'].value_counts().sort_values(ascending=False)\n",
    "\n",
    "fig, axes = plt.subplots(1, 2, figsize=(18, 5))\n",
    "\n",
    "sns.barplot(x=users.head(10).index, y=users.head(10).values, order=users.head(10).index, ax=axes[0])\n",
    "axes[0].set_title(\"Top 10 users with most transactions\")\n",
    "axes[0].set_xlabel(\"User ID\")\n",
    "axes[0].set_ylabel(\"Number of transactions\")\n",
    "\n",
    "sns.barplot(x=users_fraud.head(10).index, y=users_fraud.head(10).values, order=users_fraud.head(10).index, ax=axes[1])\n",
    "axes[1].set_title(\"Top 10 users with fraudulent transactions\")\n",
    "axes[1].set_xlabel(\"User ID\")\n",
    "axes[1].set_ylabel(\"Number of transactions\")\n",
    "\n",
    "plt.tight_layout()\n",
    "plt.show()"
   ]
  },
  {
   "cell_type": "markdown",
   "metadata": {},
   "source": [
    "##### "
   ]
  },
  {
   "cell_type": "code",
   "execution_count": 17,
   "metadata": {},
   "outputs": [
    {
     "name": "stdout",
     "output_type": "stream",
     "text": [
      "Top 3 users with more transactions:\n",
      "User ID: 11750 - Number of transactions: 31\n",
      "User ID: 91637 - Number of transactions: 22\n",
      "User ID: 79054 - Number of transactions: 17\n",
      "--------------------------------------------------\n",
      "Top 3 users with more fraudulent transactions:\n",
      "User ID: 11750 - Number of fraudulent transactions: 25\n",
      "User ID: 91637 - Number of fraudulent transactions: 19\n",
      "User ID: 79054 - Number of fraudulent transactions: 15\n"
     ]
    }
   ],
   "source": [
    "users_fraud = fraudulent_transactions['user_id'].value_counts().sort_values(ascending=False)\n",
    "\n",
    "print(\"Top 3 users with more transactions:\")\n",
    "for i, j in zip(users.index[:3], users.values[:3]):\n",
    "    print(f\"User ID: {i} - Number of transactions: {j}\")\n",
    "\n",
    "print(\"-\"*50)\n",
    "\n",
    "print(\"Top 3 users with more fraudulent transactions:\")\n",
    "for i, j in zip(users_fraud.index[:3], users_fraud.values[:3]):\n",
    "    print(f\"User ID: {i} - Number of fraudulent transactions: {j}\")"
   ]
  },
  {
   "cell_type": "code",
   "execution_count": 18,
   "metadata": {},
   "outputs": [
    {
     "name": "stdout",
     "output_type": "stream",
     "text": [
      "Users with only fraudulent transactions: 120\n"
     ]
    }
   ],
   "source": [
    "# Creating a new dataframe with the number of transactions and the number of fraudulent transactions for each user\n",
    "users_transactions = users.to_frame().merge(users_fraud.to_frame().reset_index(), on='user_id', how='left').fillna(0).rename(columns={\n",
    "    'index': 'user_id', 'count_x': 'total_transactions', 'count_y': 'fraud'\n",
    "    })\n",
    "\n",
    "users_transactions['fraud'] = users_transactions['fraud'].astype(int)\n",
    "\n",
    "# Calculating the fraud rate for each user\n",
    "users_transactions['fraud_rate'] = users_transactions['fraud'] / users_transactions['total_transactions']\n",
    "users_transactions.sort_values(by='fraud_rate', ascending=False, inplace=True)\n",
    "\n",
    "# Total number of users that all transactions are fraudulent\n",
    "print(f\"Users with only fraudulent transactions: {len(users_transactions[users_transactions['fraud_rate'] == 1])}\")"
   ]
  },
  {
   "cell_type": "code",
   "execution_count": 19,
   "metadata": {},
   "outputs": [
    {
     "name": "stdout",
     "output_type": "stream",
     "text": [
      "User ID: 78262.0 - Fraud rate: 0.92 - Total transactions: 13.0\n",
      "User ID: 79054.0 - Fraud rate: 0.88 - Total transactions: 17.0\n",
      "User ID: 91637.0 - Fraud rate: 0.86 - Total transactions: 22.0\n"
     ]
    }
   ],
   "source": [
    "not_100 = users_transactions[users_transactions['fraud_rate'] != 1]\n",
    "\n",
    "for i in range(1, 4):\n",
    "    print(f\"User ID: {not_100.iloc[i]['user_id']} - Fraud rate: {not_100.iloc[i]['fraud_rate']:.2f} - Total transactions: {not_100.iloc[i]['total_transactions']}\")"
   ]
  },
  {
   "cell_type": "code",
   "execution_count": 20,
   "metadata": {},
   "outputs": [
    {
     "data": {
      "application/vnd.plotly.v1+json": {
       "config": {
        "plotlyServerURL": "https://plot.ly"
       },
       "data": [
        {
         "hovertemplate": "Total Transactions: %{y}<extra></extra>",
         "marker": {
          "color": "blue"
         },
         "name": "Total",
         "type": "bar",
         "x": {
          "bdata": "GXcBALYxAQDONAEA9WUBAOYtAADUDwEACWwAAA9eAQAzRwAAS3wAAA==",
          "dtype": "i4"
         },
         "xaxis": "x",
         "y": {
          "bdata": "Dg0RFh8FBQQEBA==",
          "dtype": "i1"
         },
         "yaxis": "y"
        },
        {
         "hovertemplate": "Fraud: %{y}<extra></extra>",
         "marker": {
          "color": "orange"
         },
         "name": "Fraud",
         "type": "bar",
         "x": {
          "bdata": "GXcBALYxAQDONAEA9WUBAOYtAADUDwEACWwAAA9eAQAzRwAAS3wAAA==",
          "dtype": "i4"
         },
         "xaxis": "x",
         "y": {
          "bdata": "DQwPExkEBAMDAw==",
          "dtype": "i1"
         },
         "yaxis": "y"
        },
        {
         "hovertemplate": "Fraud Rate: %{y}<extra></extra>",
         "line": {
          "color": "red"
         },
         "mode": "lines+markers",
         "name": "Fraud Rate",
         "type": "scatter",
         "x": {
          "bdata": "GXcBALYxAQDONAEA9WUBAOYtAADUDwEACWwAAA9eAQAzRwAAS3wAAA==",
          "dtype": "i4"
         },
         "xaxis": "x",
         "y": {
          "bdata": "btu2bdu27T+e2Imd2IntPzw8PDw8POw/o4suuuii6z/OOeecc87pP5qZmZmZmek/mpmZmZmZ6T8AAAAAAADoPwAAAAAAAOg/AAAAAAAA6D8=",
          "dtype": "f8"
         },
         "yaxis": "y2"
        }
       ],
       "layout": {
        "barmode": "group",
        "height": 400,
        "legend": {
         "bgcolor": "rgba(255, 255, 255, 0.5)",
         "x": 0.98,
         "y": 0.98
        },
        "template": {
         "data": {
          "bar": [
           {
            "error_x": {
             "color": "#2a3f5f"
            },
            "error_y": {
             "color": "#2a3f5f"
            },
            "marker": {
             "line": {
              "color": "white",
              "width": 0.5
             },
             "pattern": {
              "fillmode": "overlay",
              "size": 10,
              "solidity": 0.2
             }
            },
            "type": "bar"
           }
          ],
          "barpolar": [
           {
            "marker": {
             "line": {
              "color": "white",
              "width": 0.5
             },
             "pattern": {
              "fillmode": "overlay",
              "size": 10,
              "solidity": 0.2
             }
            },
            "type": "barpolar"
           }
          ],
          "carpet": [
           {
            "aaxis": {
             "endlinecolor": "#2a3f5f",
             "gridcolor": "#C8D4E3",
             "linecolor": "#C8D4E3",
             "minorgridcolor": "#C8D4E3",
             "startlinecolor": "#2a3f5f"
            },
            "baxis": {
             "endlinecolor": "#2a3f5f",
             "gridcolor": "#C8D4E3",
             "linecolor": "#C8D4E3",
             "minorgridcolor": "#C8D4E3",
             "startlinecolor": "#2a3f5f"
            },
            "type": "carpet"
           }
          ],
          "choropleth": [
           {
            "colorbar": {
             "outlinewidth": 0,
             "ticks": ""
            },
            "type": "choropleth"
           }
          ],
          "contour": [
           {
            "colorbar": {
             "outlinewidth": 0,
             "ticks": ""
            },
            "colorscale": [
             [
              0,
              "#0d0887"
             ],
             [
              0.1111111111111111,
              "#46039f"
             ],
             [
              0.2222222222222222,
              "#7201a8"
             ],
             [
              0.3333333333333333,
              "#9c179e"
             ],
             [
              0.4444444444444444,
              "#bd3786"
             ],
             [
              0.5555555555555556,
              "#d8576b"
             ],
             [
              0.6666666666666666,
              "#ed7953"
             ],
             [
              0.7777777777777778,
              "#fb9f3a"
             ],
             [
              0.8888888888888888,
              "#fdca26"
             ],
             [
              1,
              "#f0f921"
             ]
            ],
            "type": "contour"
           }
          ],
          "contourcarpet": [
           {
            "colorbar": {
             "outlinewidth": 0,
             "ticks": ""
            },
            "type": "contourcarpet"
           }
          ],
          "heatmap": [
           {
            "colorbar": {
             "outlinewidth": 0,
             "ticks": ""
            },
            "colorscale": [
             [
              0,
              "#0d0887"
             ],
             [
              0.1111111111111111,
              "#46039f"
             ],
             [
              0.2222222222222222,
              "#7201a8"
             ],
             [
              0.3333333333333333,
              "#9c179e"
             ],
             [
              0.4444444444444444,
              "#bd3786"
             ],
             [
              0.5555555555555556,
              "#d8576b"
             ],
             [
              0.6666666666666666,
              "#ed7953"
             ],
             [
              0.7777777777777778,
              "#fb9f3a"
             ],
             [
              0.8888888888888888,
              "#fdca26"
             ],
             [
              1,
              "#f0f921"
             ]
            ],
            "type": "heatmap"
           }
          ],
          "histogram": [
           {
            "marker": {
             "pattern": {
              "fillmode": "overlay",
              "size": 10,
              "solidity": 0.2
             }
            },
            "type": "histogram"
           }
          ],
          "histogram2d": [
           {
            "colorbar": {
             "outlinewidth": 0,
             "ticks": ""
            },
            "colorscale": [
             [
              0,
              "#0d0887"
             ],
             [
              0.1111111111111111,
              "#46039f"
             ],
             [
              0.2222222222222222,
              "#7201a8"
             ],
             [
              0.3333333333333333,
              "#9c179e"
             ],
             [
              0.4444444444444444,
              "#bd3786"
             ],
             [
              0.5555555555555556,
              "#d8576b"
             ],
             [
              0.6666666666666666,
              "#ed7953"
             ],
             [
              0.7777777777777778,
              "#fb9f3a"
             ],
             [
              0.8888888888888888,
              "#fdca26"
             ],
             [
              1,
              "#f0f921"
             ]
            ],
            "type": "histogram2d"
           }
          ],
          "histogram2dcontour": [
           {
            "colorbar": {
             "outlinewidth": 0,
             "ticks": ""
            },
            "colorscale": [
             [
              0,
              "#0d0887"
             ],
             [
              0.1111111111111111,
              "#46039f"
             ],
             [
              0.2222222222222222,
              "#7201a8"
             ],
             [
              0.3333333333333333,
              "#9c179e"
             ],
             [
              0.4444444444444444,
              "#bd3786"
             ],
             [
              0.5555555555555556,
              "#d8576b"
             ],
             [
              0.6666666666666666,
              "#ed7953"
             ],
             [
              0.7777777777777778,
              "#fb9f3a"
             ],
             [
              0.8888888888888888,
              "#fdca26"
             ],
             [
              1,
              "#f0f921"
             ]
            ],
            "type": "histogram2dcontour"
           }
          ],
          "mesh3d": [
           {
            "colorbar": {
             "outlinewidth": 0,
             "ticks": ""
            },
            "type": "mesh3d"
           }
          ],
          "parcoords": [
           {
            "line": {
             "colorbar": {
              "outlinewidth": 0,
              "ticks": ""
             }
            },
            "type": "parcoords"
           }
          ],
          "pie": [
           {
            "automargin": true,
            "type": "pie"
           }
          ],
          "scatter": [
           {
            "fillpattern": {
             "fillmode": "overlay",
             "size": 10,
             "solidity": 0.2
            },
            "type": "scatter"
           }
          ],
          "scatter3d": [
           {
            "line": {
             "colorbar": {
              "outlinewidth": 0,
              "ticks": ""
             }
            },
            "marker": {
             "colorbar": {
              "outlinewidth": 0,
              "ticks": ""
             }
            },
            "type": "scatter3d"
           }
          ],
          "scattercarpet": [
           {
            "marker": {
             "colorbar": {
              "outlinewidth": 0,
              "ticks": ""
             }
            },
            "type": "scattercarpet"
           }
          ],
          "scattergeo": [
           {
            "marker": {
             "colorbar": {
              "outlinewidth": 0,
              "ticks": ""
             }
            },
            "type": "scattergeo"
           }
          ],
          "scattergl": [
           {
            "marker": {
             "colorbar": {
              "outlinewidth": 0,
              "ticks": ""
             }
            },
            "type": "scattergl"
           }
          ],
          "scattermap": [
           {
            "marker": {
             "colorbar": {
              "outlinewidth": 0,
              "ticks": ""
             }
            },
            "type": "scattermap"
           }
          ],
          "scattermapbox": [
           {
            "marker": {
             "colorbar": {
              "outlinewidth": 0,
              "ticks": ""
             }
            },
            "type": "scattermapbox"
           }
          ],
          "scatterpolar": [
           {
            "marker": {
             "colorbar": {
              "outlinewidth": 0,
              "ticks": ""
             }
            },
            "type": "scatterpolar"
           }
          ],
          "scatterpolargl": [
           {
            "marker": {
             "colorbar": {
              "outlinewidth": 0,
              "ticks": ""
             }
            },
            "type": "scatterpolargl"
           }
          ],
          "scatterternary": [
           {
            "marker": {
             "colorbar": {
              "outlinewidth": 0,
              "ticks": ""
             }
            },
            "type": "scatterternary"
           }
          ],
          "surface": [
           {
            "colorbar": {
             "outlinewidth": 0,
             "ticks": ""
            },
            "colorscale": [
             [
              0,
              "#0d0887"
             ],
             [
              0.1111111111111111,
              "#46039f"
             ],
             [
              0.2222222222222222,
              "#7201a8"
             ],
             [
              0.3333333333333333,
              "#9c179e"
             ],
             [
              0.4444444444444444,
              "#bd3786"
             ],
             [
              0.5555555555555556,
              "#d8576b"
             ],
             [
              0.6666666666666666,
              "#ed7953"
             ],
             [
              0.7777777777777778,
              "#fb9f3a"
             ],
             [
              0.8888888888888888,
              "#fdca26"
             ],
             [
              1,
              "#f0f921"
             ]
            ],
            "type": "surface"
           }
          ],
          "table": [
           {
            "cells": {
             "fill": {
              "color": "#EBF0F8"
             },
             "line": {
              "color": "white"
             }
            },
            "header": {
             "fill": {
              "color": "#C8D4E3"
             },
             "line": {
              "color": "white"
             }
            },
            "type": "table"
           }
          ]
         },
         "layout": {
          "annotationdefaults": {
           "arrowcolor": "#2a3f5f",
           "arrowhead": 0,
           "arrowwidth": 1
          },
          "autotypenumbers": "strict",
          "coloraxis": {
           "colorbar": {
            "outlinewidth": 0,
            "ticks": ""
           }
          },
          "colorscale": {
           "diverging": [
            [
             0,
             "#8e0152"
            ],
            [
             0.1,
             "#c51b7d"
            ],
            [
             0.2,
             "#de77ae"
            ],
            [
             0.3,
             "#f1b6da"
            ],
            [
             0.4,
             "#fde0ef"
            ],
            [
             0.5,
             "#f7f7f7"
            ],
            [
             0.6,
             "#e6f5d0"
            ],
            [
             0.7,
             "#b8e186"
            ],
            [
             0.8,
             "#7fbc41"
            ],
            [
             0.9,
             "#4d9221"
            ],
            [
             1,
             "#276419"
            ]
           ],
           "sequential": [
            [
             0,
             "#0d0887"
            ],
            [
             0.1111111111111111,
             "#46039f"
            ],
            [
             0.2222222222222222,
             "#7201a8"
            ],
            [
             0.3333333333333333,
             "#9c179e"
            ],
            [
             0.4444444444444444,
             "#bd3786"
            ],
            [
             0.5555555555555556,
             "#d8576b"
            ],
            [
             0.6666666666666666,
             "#ed7953"
            ],
            [
             0.7777777777777778,
             "#fb9f3a"
            ],
            [
             0.8888888888888888,
             "#fdca26"
            ],
            [
             1,
             "#f0f921"
            ]
           ],
           "sequentialminus": [
            [
             0,
             "#0d0887"
            ],
            [
             0.1111111111111111,
             "#46039f"
            ],
            [
             0.2222222222222222,
             "#7201a8"
            ],
            [
             0.3333333333333333,
             "#9c179e"
            ],
            [
             0.4444444444444444,
             "#bd3786"
            ],
            [
             0.5555555555555556,
             "#d8576b"
            ],
            [
             0.6666666666666666,
             "#ed7953"
            ],
            [
             0.7777777777777778,
             "#fb9f3a"
            ],
            [
             0.8888888888888888,
             "#fdca26"
            ],
            [
             1,
             "#f0f921"
            ]
           ]
          },
          "colorway": [
           "#636efa",
           "#EF553B",
           "#00cc96",
           "#ab63fa",
           "#FFA15A",
           "#19d3f3",
           "#FF6692",
           "#B6E880",
           "#FF97FF",
           "#FECB52"
          ],
          "font": {
           "color": "#2a3f5f"
          },
          "geo": {
           "bgcolor": "white",
           "lakecolor": "white",
           "landcolor": "white",
           "showlakes": true,
           "showland": true,
           "subunitcolor": "#C8D4E3"
          },
          "hoverlabel": {
           "align": "left"
          },
          "hovermode": "closest",
          "mapbox": {
           "style": "light"
          },
          "paper_bgcolor": "white",
          "plot_bgcolor": "white",
          "polar": {
           "angularaxis": {
            "gridcolor": "#EBF0F8",
            "linecolor": "#EBF0F8",
            "ticks": ""
           },
           "bgcolor": "white",
           "radialaxis": {
            "gridcolor": "#EBF0F8",
            "linecolor": "#EBF0F8",
            "ticks": ""
           }
          },
          "scene": {
           "xaxis": {
            "backgroundcolor": "white",
            "gridcolor": "#DFE8F3",
            "gridwidth": 2,
            "linecolor": "#EBF0F8",
            "showbackground": true,
            "ticks": "",
            "zerolinecolor": "#EBF0F8"
           },
           "yaxis": {
            "backgroundcolor": "white",
            "gridcolor": "#DFE8F3",
            "gridwidth": 2,
            "linecolor": "#EBF0F8",
            "showbackground": true,
            "ticks": "",
            "zerolinecolor": "#EBF0F8"
           },
           "zaxis": {
            "backgroundcolor": "white",
            "gridcolor": "#DFE8F3",
            "gridwidth": 2,
            "linecolor": "#EBF0F8",
            "showbackground": true,
            "ticks": "",
            "zerolinecolor": "#EBF0F8"
           }
          },
          "shapedefaults": {
           "line": {
            "color": "#2a3f5f"
           }
          },
          "ternary": {
           "aaxis": {
            "gridcolor": "#DFE8F3",
            "linecolor": "#A2B1C6",
            "ticks": ""
           },
           "baxis": {
            "gridcolor": "#DFE8F3",
            "linecolor": "#A2B1C6",
            "ticks": ""
           },
           "bgcolor": "white",
           "caxis": {
            "gridcolor": "#DFE8F3",
            "linecolor": "#A2B1C6",
            "ticks": ""
           }
          },
          "title": {
           "x": 0.05
          },
          "xaxis": {
           "automargin": true,
           "gridcolor": "#EBF0F8",
           "linecolor": "#EBF0F8",
           "ticks": "",
           "title": {
            "standoff": 15
           },
           "zerolinecolor": "#EBF0F8",
           "zerolinewidth": 2
          },
          "yaxis": {
           "automargin": true,
           "gridcolor": "#EBF0F8",
           "linecolor": "#EBF0F8",
           "ticks": "",
           "title": {
            "standoff": 15
           },
           "zerolinecolor": "#EBF0F8",
           "zerolinewidth": 2
          }
         }
        },
        "title": {
         "text": "Total Transactions vs Fraud Transactions per User"
        },
        "width": 1000,
        "xaxis": {
         "anchor": "y",
         "domain": [
          0,
          0.94
         ],
         "tickangle": 45,
         "title": {
          "text": "User ID"
         },
         "type": "category"
        },
        "yaxis": {
         "anchor": "x",
         "domain": [
          0,
          1
         ],
         "title": {
          "text": "Number of Transactions"
         }
        },
        "yaxis2": {
         "anchor": "x",
         "overlaying": "y",
         "side": "right",
         "title": {
          "text": "Fraud Rate"
         }
        }
       }
      }
     },
     "metadata": {},
     "output_type": "display_data"
    }
   ],
   "source": [
    "not_100 = not_100.head(10)\n",
    "\n",
    "fig = make_subplots(specs=[[{\"secondary_y\": True}]])\n",
    "\n",
    "# Adding the bar for the total transactions\n",
    "fig.add_trace(\n",
    "    go.Bar(\n",
    "        x=not_100['user_id'],\n",
    "        y=not_100['total_transactions'],\n",
    "        name='Total',\n",
    "        marker_color='blue',\n",
    "        hovertemplate='Total Transactions: %{y}<extra></extra>',\n",
    "    ),\n",
    "    secondary_y=False,\n",
    ")\n",
    "\n",
    "# Adding the bar for the fraudulent transactions\n",
    "fig.add_trace(\n",
    "    go.Bar(\n",
    "        x=not_100['user_id'],\n",
    "        y=not_100['fraud'],\n",
    "        name='Fraud',\n",
    "        marker_color='orange',\n",
    "        hovertemplate='Fraud: %{y}<extra></extra>',\n",
    "    ),\n",
    "    secondary_y=False,\n",
    ")\n",
    "\n",
    "# Adding the line for the fraud rate\n",
    "fig.add_trace(\n",
    "    go.Scatter(\n",
    "        x=not_100['user_id'],\n",
    "        y=not_100['fraud_rate'],\n",
    "        name='Fraud Rate',\n",
    "        mode='lines+markers',\n",
    "        line=dict(color='red'),\n",
    "        hovertemplate='Fraud Rate: %{y}<extra></extra>',\n",
    "    ),\n",
    "    secondary_y=True,\n",
    ")\n",
    "\n",
    "# Layout configuration\n",
    "fig.update_layout(\n",
    "    title=\"Total Transactions vs Fraud Transactions per User\",\n",
    "    xaxis_title=\"User ID\",\n",
    "    yaxis_title=\"Number of Transactions\",\n",
    "    yaxis2_title=\"Fraud Rate\",\n",
    "    barmode='group',\n",
    "    legend=dict(\n",
    "        x=0.98,\n",
    "        y=0.98,\n",
    "        bgcolor='rgba(255, 255, 255, 0.5)',\n",
    "    ),\n",
    "    template=\"plotly_white\",\n",
    "    width=1000,\n",
    "    height=400,\n",
    ")\n",
    "\n",
    "# Axis configuration\n",
    "fig.update_xaxes(\n",
    "    tickangle=45,\n",
    "    type='category',\n",
    ")\n",
    "fig.show()"
   ]
  },
  {
   "cell_type": "code",
   "execution_count": 21,
   "metadata": {},
   "outputs": [
    {
     "name": "stdout",
     "output_type": "stream",
     "text": [
      "Proportion of any fraudulent transaction in a sequence of transactions from the same user:\n",
      "1: 0.51\n",
      "2: 0.81\n",
      "3: 1.00\n",
      "4: 1.00\n",
      "5: 1.00\n",
      "6: 1.00\n",
      "------------------------------------------------------------------------------------------\n",
      "Proportion of all fraudulent transaction in a sequence of transactions from the same user:\n",
      "1: 0.70\n",
      "2: 0.57\n",
      "3: 0.62\n",
      "4: 0.67\n",
      "5: 0.67\n",
      "6: 0.50\n"
     ]
    }
   ],
   "source": [
    "sequential_transactions = data.copy()\n",
    "\n",
    "# Converter a coluna de data para o tipo datetime\n",
    "sequential_transactions['transaction_date'] = pd.to_datetime(sequential_transactions['transaction_date'])\n",
    "\n",
    "# Ordenar o DataFrame por user_id e transaction_date\n",
    "sequential_transactions = sequential_transactions.sort_values(by=['user_id', 'transaction_date'])\n",
    "\n",
    "# Calcular a diferença de tempo entre transações consecutivas para cada usuário\n",
    "sequential_transactions['time_diff'] = sequential_transactions.groupby('user_id')['transaction_date'].diff().abs()\n",
    "\n",
    "time_threshold = pd.Timedelta(minutes=15)\n",
    "\n",
    "sequential_transactions['is_sequential'] = sequential_transactions['time_diff'] <= time_threshold\n",
    "\n",
    "result = sequential_transactions.groupby('user_id').agg(\n",
    "    total_transactions=('transaction_id', 'size'),\n",
    "    sequential_transactions=('is_sequential', 'sum'),\n",
    "    total_amount=('transaction_amount', 'sum'),\n",
    "    has_cbk_any=('has_cbk', 'any'),\n",
    "    has_cbk_all=('has_cbk', 'all')\n",
    ").reset_index()\n",
    "\n",
    "prop_any = [float(result[result['sequential_transactions'] > i]['has_cbk_any'].value_counts(normalize=True).iloc[0]) for i in range(0, max(result['sequential_transactions']))]\n",
    "\n",
    "prop_all = [float(result[result['sequential_transactions'] > i]['has_cbk_all'].value_counts(normalize=True).iloc[0]) for i in range(0, max(result['sequential_transactions']))]\n",
    "\n",
    "print(\"Proportion of any fraudulent transaction in a sequence of transactions from the same user:\")\n",
    "for i, p in enumerate(prop_any):\n",
    "    print(f\"{i+1}: {p:.2f}\")\n",
    "\n",
    "print(\"-\"*90)\n",
    "\n",
    "print(\"Proportion of all fraudulent transaction in a sequence of transactions from the same user:\")\n",
    "for i, p in enumerate(prop_all):\n",
    "    print(f\"{i+1}: {p:.2f}\")\n"
   ]
  },
  {
   "cell_type": "markdown",
   "metadata": {},
   "source": [
    "##### Merchant Analysis"
   ]
  },
  {
   "cell_type": "markdown",
   "metadata": {},
   "source": [
    "**Top 3** merchants with the most total transactions\n",
    "\n",
    "```\n",
    "Merchant ID: 49205 - Transactions: 73\n",
    "Merchant ID: 17275 - Transactions: 30\n",
    "Merchant ID: 4705 - Transactions: 22\n",
    "```\n",
    "\n",
    "**Top 3** merchants with the most fraudulent transactions\n",
    "```\n",
    "Merchant ID: 17275 - Fraudulent transactions: 22\n",
    "Merchant ID: 4705 - Fraudulent transactions: 19\n",
    "Merchant ID: 1308 - Fraudulent transactions: 15\n",
    "```\n",
    "**Key Insights:**\n",
    "* Merchant 49205 stands out with the highest number of transactions (73), but doesn't appear to have the highest fraud rate.\n",
    "* Merchant 17275, although having the second most transactions (30), has the highest number of fraudulent transactions (22), signaling a potential fraud issue.\n",
    "* The fraudulent activity is concentrated among a small number of merchants, suggesting that specific merchants may need closer monitoring. \n",
    "\n",
    "**Top 3** merchants with the highest fraud rate (that isn't 100%)\n",
    "```\n",
    "Merchant ID: 49919.0 - Fraud rate: 0.88 - Total transactions: 8.0\n",
    "Merchant ID: 66876.0 - Fraud rate: 0.88 - Total transactions: 8.0\n",
    "Merchant ID: 77130.0 - Fraud rate: 0.87 - Total transactions: 15.0\n",
    "```\n",
    "**Key Insights:**\n",
    "* **66** merchants have 100% of fraudulent transactions\n",
    "* Merchants 49919 and 66876 have an exceptionally high fraud rate (88%), despite having relatively few transactions (8), which raises red flags for potential fraudulent behavior.\n",
    "* Merchant 77130, with a fraud rate of 87%, also shows a significant level of suspicious activity with 15 total transactions.\n",
    "* A high fraud rate coupled with a relatively low number of transactions may suggest targeted fraudulent behavior or vulnerability.\n",
    "\n",
    "**Possible suspicious patterns:**\n",
    "* High-value transactions, especially when significantly deviating from the merchant’s average (e.g., exceeding **two standard deviations** from the mean transaction value). \n",
    "* Merchants with a high fraud ratio may be actively involved in fraudulent schemes or failing to prevent fraudulent activities.  \n",
    "\n",
    "**Recommendations:**\n",
    "* Increase monitoring and due diligence for merchants with high fraudulent transaction volumes, such as Merchant 17275 and 4705.\n",
    "* Investigate merchants with a high fraud ratio and low transaction count, as they may be involved in targeted fraudulent schemes."
   ]
  },
  {
   "cell_type": "code",
   "execution_count": 22,
   "metadata": {},
   "outputs": [
    {
     "data": {
      "image/png": "[encoded data removed]",
      "text/plain": [
       "<Figure size 1800x500 with 2 Axes>"
      ]
     },
     "metadata": {},
     "output_type": "display_data"
    }
   ],
   "source": [
    "merchants = data['merchant_id'].value_counts().sort_values(ascending=False)\n",
    "merchants_fraud = fraudulent_transactions['merchant_id'].value_counts().sort_values(ascending=False)\n",
    "\n",
    "fig, axes = plt.subplots(1, 2, figsize=(18, 5))\n",
    "\n",
    "sns.barplot(x=merchants.head(10).index, y=merchants.head(10).values, order=merchants.head(10).index, ax=axes[0])\n",
    "axes[0].set_title(\"Top 10 merchants\")\n",
    "axes[0].set_xlabel(\"Merchant ID\")\n",
    "axes[0].set_ylabel(\"Number of transactions\")\n",
    "\n",
    "sns.barplot(x=merchants_fraud.head(10).index, y=merchants_fraud.head(10).values, order=merchants_fraud.head(10).index, ax=axes[1])\n",
    "axes[1].set_title(\"Top 10 merchants with fraudulent transactions\")\n",
    "axes[1].set_xlabel(\"Merchant ID\")\n",
    "axes[1].set_ylabel(\"Number of transactions\")\n",
    "\n",
    "fig.tight_layout()\n",
    "plt.show()"
   ]
  },
  {
   "cell_type": "code",
   "execution_count": 23,
   "metadata": {},
   "outputs": [
    {
     "name": "stdout",
     "output_type": "stream",
     "text": [
      "Top 3 merchants with more transactions:\n",
      "Merchant ID: 49205 - Number of transactions: 73\n",
      "Merchant ID: 17275 - Number of transactions: 30\n",
      "Merchant ID: 4705 - Number of transactions: 22\n",
      "--------------------------------------------------\n",
      "Top 3 merchants with more fraudulent transactions:\n",
      "Merchant ID: 17275 - Number of fraudulent transactions: 22\n",
      "Merchant ID: 4705 - Number of fraudulent transactions: 19\n",
      "Merchant ID: 1308 - Number of fraudulent transactions: 15\n"
     ]
    }
   ],
   "source": [
    "print(\"Top 3 merchants with more transactions:\")\n",
    "for i, j in zip(merchants.index[:3], merchants.values[:3]):\n",
    "    print(f\"Merchant ID: {i} - Number of transactions: {j}\")\n",
    "\n",
    "print(\"-\"*50)\n",
    "\n",
    "print(\"Top 3 merchants with more fraudulent transactions:\")\n",
    "for i, j in zip(merchants_fraud.index[:3], merchants_fraud.values[:3]):\n",
    "    print(f\"Merchant ID: {i} - Number of fraudulent transactions: {j}\")"
   ]
  },
  {
   "cell_type": "code",
   "execution_count": 24,
   "metadata": {},
   "outputs": [
    {
     "name": "stdout",
     "output_type": "stream",
     "text": [
      "Merchants with only fraudulent transactions: 66\n"
     ]
    }
   ],
   "source": [
    "merchants_transactions = merchants.to_frame().merge(merchants_fraud.to_frame().reset_index(), on='merchant_id', how='left').fillna(0).rename(columns={\n",
    "    'index': 'merchant_id', 'count_x': 'total_transactions', 'count_y': 'fraud'\n",
    "    })\n",
    "\n",
    "merchants_transactions['fraud'] = merchants_transactions['fraud'].astype(int)\n",
    "\n",
    "merchants_transactions['fraud_rate'] = merchants_transactions['fraud'] / merchants_transactions['total_transactions']\n",
    "\n",
    "merchants_transactions.sort_values(by='fraud_rate', ascending=False, inplace=True)\n",
    "\n",
    "print(f\"Merchants with only fraudulent transactions: {len(merchants_transactions[merchants_transactions['fraud_rate'] == 1])}\")"
   ]
  },
  {
   "cell_type": "code",
   "execution_count": 25,
   "metadata": {},
   "outputs": [
    {
     "name": "stdout",
     "output_type": "stream",
     "text": [
      "Merchant ID: 49919.0 - Fraud rate: 0.88 - Total transactions: 8.0\n",
      "Merchant ID: 66876.0 - Fraud rate: 0.88 - Total transactions: 8.0\n",
      "Merchant ID: 77130.0 - Fraud rate: 0.87 - Total transactions: 15.0\n"
     ]
    }
   ],
   "source": [
    "not_100_merchants = merchants_transactions[merchants_transactions['fraud_rate'] != 1]\n",
    "\n",
    "for i in range(1, 4):\n",
    "    print(f\"Merchant ID: {not_100_merchants.iloc[i]['merchant_id']} - Fraud rate: {not_100_merchants.iloc[i]['fraud_rate']:.2f} - Total transactions: {not_100_merchants.iloc[i]['total_transactions']}\")"
   ]
  },
  {
   "cell_type": "code",
   "execution_count": 26,
   "metadata": {},
   "outputs": [
    {
     "data": {
      "application/vnd.plotly.v1+json": {
       "config": {
        "plotlyServerURL": "https://plot.ly"
       },
       "data": [
        {
         "hovertemplate": "Total Transactions: %{y}<extra></extra>",
         "marker": {
          "color": "blue"
         },
         "name": "Total",
         "type": "bar",
         "x": {
          "bdata": "HnIAAP/CAAA8BQEASi0BAGESAABbRwAAXI8AADkQAAAu2gAACY8AAA==",
          "dtype": "i4"
         },
         "xaxis": "x",
         "y": {
          "bdata": "CggIDxYHBgYLBQ==",
          "dtype": "i1"
         },
         "yaxis": "y"
        },
        {
         "hovertemplate": "Fraud: %{y}<extra></extra>",
         "marker": {
          "color": "orange"
         },
         "name": "Fraud",
         "type": "bar",
         "x": {
          "bdata": "HnIAAP/CAAA8BQEASi0BAGESAABbRwAAXI8AADkQAAAu2gAACY8AAA==",
          "dtype": "i4"
         },
         "xaxis": "x",
         "y": {
          "bdata": "CQcHDRMGBQUJBA==",
          "dtype": "i1"
         },
         "yaxis": "y"
        },
        {
         "hovertemplate": "Fraud Rate: %{y}<extra></extra>",
         "line": {
          "color": "red"
         },
         "mode": "lines+markers",
         "name": "Fraud Rate",
         "type": "scatter",
         "x": {
          "bdata": "HnIAAP/CAAA8BQEASi0BAGESAABbRwAAXI8AADkQAAAu2gAACY8AAA==",
          "dtype": "i4"
         },
         "xaxis": "x",
         "y": {
          "bdata": "zczMzMzM7D8AAAAAAADsPwAAAAAAAOw/vLu7u7u76z+jiy666KLrP9u2bdu2bes/q6qqqqqq6j+rqqqqqqrqPy+66KKLLuo/mpmZmZmZ6T8=",
          "dtype": "f8"
         },
         "yaxis": "y2"
        }
       ],
       "layout": {
        "barmode": "group",
        "height": 400,
        "legend": {
         "bgcolor": "rgba(255, 255, 255, 0.5)",
         "x": 0.98,
         "y": 0.98
        },
        "template": {
         "data": {
          "bar": [
           {
            "error_x": {
             "color": "#2a3f5f"
            },
            "error_y": {
             "color": "#2a3f5f"
            },
            "marker": {
             "line": {
              "color": "white",
              "width": 0.5
             },
             "pattern": {
              "fillmode": "overlay",
              "size": 10,
              "solidity": 0.2
             }
            },
            "type": "bar"
           }
          ],
          "barpolar": [
           {
            "marker": {
             "line": {
              "color": "white",
              "width": 0.5
             },
             "pattern": {
              "fillmode": "overlay",
              "size": 10,
              "solidity": 0.2
             }
            },
            "type": "barpolar"
           }
          ],
          "carpet": [
           {
            "aaxis": {
             "endlinecolor": "#2a3f5f",
             "gridcolor": "#C8D4E3",
             "linecolor": "#C8D4E3",
             "minorgridcolor": "#C8D4E3",
             "startlinecolor": "#2a3f5f"
            },
            "baxis": {
             "endlinecolor": "#2a3f5f",
             "gridcolor": "#C8D4E3",
             "linecolor": "#C8D4E3",
             "minorgridcolor": "#C8D4E3",
             "startlinecolor": "#2a3f5f"
            },
            "type": "carpet"
           }
          ],
          "choropleth": [
           {
            "colorbar": {
             "outlinewidth": 0,
             "ticks": ""
            },
            "type": "choropleth"
           }
          ],
          "contour": [
           {
            "colorbar": {
             "outlinewidth": 0,
             "ticks": ""
            },
            "colorscale": [
             [
              0,
              "#0d0887"
             ],
             [
              0.1111111111111111,
              "#46039f"
             ],
             [
              0.2222222222222222,
              "#7201a8"
             ],
             [
              0.3333333333333333,
              "#9c179e"
             ],
             [
              0.4444444444444444,
              "#bd3786"
             ],
             [
              0.5555555555555556,
              "#d8576b"
             ],
             [
              0.6666666666666666,
              "#ed7953"
             ],
             [
              0.7777777777777778,
              "#fb9f3a"
             ],
             [
              0.8888888888888888,
              "#fdca26"
             ],
             [
              1,
              "#f0f921"
             ]
            ],
            "type": "contour"
           }
          ],
          "contourcarpet": [
           {
            "colorbar": {
             "outlinewidth": 0,
             "ticks": ""
            },
            "type": "contourcarpet"
           }
          ],
          "heatmap": [
           {
            "colorbar": {
             "outlinewidth": 0,
             "ticks": ""
            },
            "colorscale": [
             [
              0,
              "#0d0887"
             ],
             [
              0.1111111111111111,
              "#46039f"
             ],
             [
              0.2222222222222222,
              "#7201a8"
             ],
             [
              0.3333333333333333,
              "#9c179e"
             ],
             [
              0.4444444444444444,
              "#bd3786"
             ],
             [
              0.5555555555555556,
              "#d8576b"
             ],
             [
              0.6666666666666666,
              "#ed7953"
             ],
             [
              0.7777777777777778,
              "#fb9f3a"
             ],
             [
              0.8888888888888888,
              "#fdca26"
             ],
             [
              1,
              "#f0f921"
             ]
            ],
            "type": "heatmap"
           }
          ],
          "histogram": [
           {
            "marker": {
             "pattern": {
              "fillmode": "overlay",
              "size": 10,
              "solidity": 0.2
             }
            },
            "type": "histogram"
           }
          ],
          "histogram2d": [
           {
            "colorbar": {
             "outlinewidth": 0,
             "ticks": ""
            },
            "colorscale": [
             [
              0,
              "#0d0887"
             ],
             [
              0.1111111111111111,
              "#46039f"
             ],
             [
              0.2222222222222222,
              "#7201a8"
             ],
             [
              0.3333333333333333,
              "#9c179e"
             ],
             [
              0.4444444444444444,
              "#bd3786"
             ],
             [
              0.5555555555555556,
              "#d8576b"
             ],
             [
              0.6666666666666666,
              "#ed7953"
             ],
             [
              0.7777777777777778,
              "#fb9f3a"
             ],
             [
              0.8888888888888888,
              "#fdca26"
             ],
             [
              1,
              "#f0f921"
             ]
            ],
            "type": "histogram2d"
           }
          ],
          "histogram2dcontour": [
           {
            "colorbar": {
             "outlinewidth": 0,
             "ticks": ""
            },
            "colorscale": [
             [
              0,
              "#0d0887"
             ],
             [
              0.1111111111111111,
              "#46039f"
             ],
             [
              0.2222222222222222,
              "#7201a8"
             ],
             [
              0.3333333333333333,
              "#9c179e"
             ],
             [
              0.4444444444444444,
              "#bd3786"
             ],
             [
              0.5555555555555556,
              "#d8576b"
             ],
             [
              0.6666666666666666,
              "#ed7953"
             ],
             [
              0.7777777777777778,
              "#fb9f3a"
             ],
             [
              0.8888888888888888,
              "#fdca26"
             ],
             [
              1,
              "#f0f921"
             ]
            ],
            "type": "histogram2dcontour"
           }
          ],
          "mesh3d": [
           {
            "colorbar": {
             "outlinewidth": 0,
             "ticks": ""
            },
            "type": "mesh3d"
           }
          ],
          "parcoords": [
           {
            "line": {
             "colorbar": {
              "outlinewidth": 0,
              "ticks": ""
             }
            },
            "type": "parcoords"
           }
          ],
          "pie": [
           {
            "automargin": true,
            "type": "pie"
           }
          ],
          "scatter": [
           {
            "fillpattern": {
             "fillmode": "overlay",
             "size": 10,
             "solidity": 0.2
            },
            "type": "scatter"
           }
          ],
          "scatter3d": [
           {
            "line": {
             "colorbar": {
              "outlinewidth": 0,
              "ticks": ""
             }
            },
            "marker": {
             "colorbar": {
              "outlinewidth": 0,
              "ticks": ""
             }
            },
            "type": "scatter3d"
           }
          ],
          "scattercarpet": [
           {
            "marker": {
             "colorbar": {
              "outlinewidth": 0,
              "ticks": ""
             }
            },
            "type": "scattercarpet"
           }
          ],
          "scattergeo": [
           {
            "marker": {
             "colorbar": {
              "outlinewidth": 0,
              "ticks": ""
             }
            },
            "type": "scattergeo"
           }
          ],
          "scattergl": [
           {
            "marker": {
             "colorbar": {
              "outlinewidth": 0,
              "ticks": ""
             }
            },
            "type": "scattergl"
           }
          ],
          "scattermap": [
           {
            "marker": {
             "colorbar": {
              "outlinewidth": 0,
              "ticks": ""
             }
            },
            "type": "scattermap"
           }
          ],
          "scattermapbox": [
           {
            "marker": {
             "colorbar": {
              "outlinewidth": 0,
              "ticks": ""
             }
            },
            "type": "scattermapbox"
           }
          ],
          "scatterpolar": [
           {
            "marker": {
             "colorbar": {
              "outlinewidth": 0,
              "ticks": ""
             }
            },
            "type": "scatterpolar"
           }
          ],
          "scatterpolargl": [
           {
            "marker": {
             "colorbar": {
              "outlinewidth": 0,
              "ticks": ""
             }
            },
            "type": "scatterpolargl"
           }
          ],
          "scatterternary": [
           {
            "marker": {
             "colorbar": {
              "outlinewidth": 0,
              "ticks": ""
             }
            },
            "type": "scatterternary"
           }
          ],
          "surface": [
           {
            "colorbar": {
             "outlinewidth": 0,
             "ticks": ""
            },
            "colorscale": [
             [
              0,
              "#0d0887"
             ],
             [
              0.1111111111111111,
              "#46039f"
             ],
             [
              0.2222222222222222,
              "#7201a8"
             ],
             [
              0.3333333333333333,
              "#9c179e"
             ],
             [
              0.4444444444444444,
              "#bd3786"
             ],
             [
              0.5555555555555556,
              "#d8576b"
             ],
             [
              0.6666666666666666,
              "#ed7953"
             ],
             [
              0.7777777777777778,
              "#fb9f3a"
             ],
             [
              0.8888888888888888,
              "#fdca26"
             ],
             [
              1,
              "#f0f921"
             ]
            ],
            "type": "surface"
           }
          ],
          "table": [
           {
            "cells": {
             "fill": {
              "color": "#EBF0F8"
             },
             "line": {
              "color": "white"
             }
            },
            "header": {
             "fill": {
              "color": "#C8D4E3"
             },
             "line": {
              "color": "white"
             }
            },
            "type": "table"
           }
          ]
         },
         "layout": {
          "annotationdefaults": {
           "arrowcolor": "#2a3f5f",
           "arrowhead": 0,
           "arrowwidth": 1
          },
          "autotypenumbers": "strict",
          "coloraxis": {
           "colorbar": {
            "outlinewidth": 0,
            "ticks": ""
           }
          },
          "colorscale": {
           "diverging": [
            [
             0,
             "#8e0152"
            ],
            [
             0.1,
             "#c51b7d"
            ],
            [
             0.2,
             "#de77ae"
            ],
            [
             0.3,
             "#f1b6da"
            ],
            [
             0.4,
             "#fde0ef"
            ],
            [
             0.5,
             "#f7f7f7"
            ],
            [
             0.6,
             "#e6f5d0"
            ],
            [
             0.7,
             "#b8e186"
            ],
            [
             0.8,
             "#7fbc41"
            ],
            [
             0.9,
             "#4d9221"
            ],
            [
             1,
             "#276419"
            ]
           ],
           "sequential": [
            [
             0,
             "#0d0887"
            ],
            [
             0.1111111111111111,
             "#46039f"
            ],
            [
             0.2222222222222222,
             "#7201a8"
            ],
            [
             0.3333333333333333,
             "#9c179e"
            ],
            [
             0.4444444444444444,
             "#bd3786"
            ],
            [
             0.5555555555555556,
             "#d8576b"
            ],
            [
             0.6666666666666666,
             "#ed7953"
            ],
            [
             0.7777777777777778,
             "#fb9f3a"
            ],
            [
             0.8888888888888888,
             "#fdca26"
            ],
            [
             1,
             "#f0f921"
            ]
           ],
           "sequentialminus": [
            [
             0,
             "#0d0887"
            ],
            [
             0.1111111111111111,
             "#46039f"
            ],
            [
             0.2222222222222222,
             "#7201a8"
            ],
            [
             0.3333333333333333,
             "#9c179e"
            ],
            [
             0.4444444444444444,
             "#bd3786"
            ],
            [
             0.5555555555555556,
             "#d8576b"
            ],
            [
             0.6666666666666666,
             "#ed7953"
            ],
            [
             0.7777777777777778,
             "#fb9f3a"
            ],
            [
             0.8888888888888888,
             "#fdca26"
            ],
            [
             1,
             "#f0f921"
            ]
           ]
          },
          "colorway": [
           "#636efa",
           "#EF553B",
           "#00cc96",
           "#ab63fa",
           "#FFA15A",
           "#19d3f3",
           "#FF6692",
           "#B6E880",
           "#FF97FF",
           "#FECB52"
          ],
          "font": {
           "color": "#2a3f5f"
          },
          "geo": {
           "bgcolor": "white",
           "lakecolor": "white",
           "landcolor": "white",
           "showlakes": true,
           "showland": true,
           "subunitcolor": "#C8D4E3"
          },
          "hoverlabel": {
           "align": "left"
          },
          "hovermode": "closest",
          "mapbox": {
           "style": "light"
          },
          "paper_bgcolor": "white",
          "plot_bgcolor": "white",
          "polar": {
           "angularaxis": {
            "gridcolor": "#EBF0F8",
            "linecolor": "#EBF0F8",
            "ticks": ""
           },
           "bgcolor": "white",
           "radialaxis": {
            "gridcolor": "#EBF0F8",
            "linecolor": "#EBF0F8",
            "ticks": ""
           }
          },
          "scene": {
           "xaxis": {
            "backgroundcolor": "white",
            "gridcolor": "#DFE8F3",
            "gridwidth": 2,
            "linecolor": "#EBF0F8",
            "showbackground": true,
            "ticks": "",
            "zerolinecolor": "#EBF0F8"
           },
           "yaxis": {
            "backgroundcolor": "white",
            "gridcolor": "#DFE8F3",
            "gridwidth": 2,
            "linecolor": "#EBF0F8",
            "showbackground": true,
            "ticks": "",
            "zerolinecolor": "#EBF0F8"
           },
           "zaxis": {
            "backgroundcolor": "white",
            "gridcolor": "#DFE8F3",
            "gridwidth": 2,
            "linecolor": "#EBF0F8",
            "showbackground": true,
            "ticks": "",
            "zerolinecolor": "#EBF0F8"
           }
          },
          "shapedefaults": {
           "line": {
            "color": "#2a3f5f"
           }
          },
          "ternary": {
           "aaxis": {
            "gridcolor": "#DFE8F3",
            "linecolor": "#A2B1C6",
            "ticks": ""
           },
           "baxis": {
            "gridcolor": "#DFE8F3",
            "linecolor": "#A2B1C6",
            "ticks": ""
           },
           "bgcolor": "white",
           "caxis": {
            "gridcolor": "#DFE8F3",
            "linecolor": "#A2B1C6",
            "ticks": ""
           }
          },
          "title": {
           "x": 0.05
          },
          "xaxis": {
           "automargin": true,
           "gridcolor": "#EBF0F8",
           "linecolor": "#EBF0F8",
           "ticks": "",
           "title": {
            "standoff": 15
           },
           "zerolinecolor": "#EBF0F8",
           "zerolinewidth": 2
          },
          "yaxis": {
           "automargin": true,
           "gridcolor": "#EBF0F8",
           "linecolor": "#EBF0F8",
           "ticks": "",
           "title": {
            "standoff": 15
           },
           "zerolinecolor": "#EBF0F8",
           "zerolinewidth": 2
          }
         }
        },
        "title": {
         "text": "Total Transactions vs Fraud Transactions per Merchant"
        },
        "width": 1000,
        "xaxis": {
         "anchor": "y",
         "domain": [
          0,
          0.94
         ],
         "tickangle": 45,
         "title": {
          "text": "Merchant ID"
         },
         "type": "category"
        },
        "yaxis": {
         "anchor": "x",
         "domain": [
          0,
          1
         ],
         "title": {
          "text": "Number of Transactions"
         }
        },
        "yaxis2": {
         "anchor": "x",
         "overlaying": "y",
         "side": "right",
         "title": {
          "text": "Fraud Rate"
         }
        }
       }
      }
     },
     "metadata": {},
     "output_type": "display_data"
    }
   ],
   "source": [
    "not_100_merchants = not_100_merchants.head(10)\n",
    "\n",
    "fig = make_subplots(specs=[[{\"secondary_y\": True}]])\n",
    "\n",
    "# Adding the bar for the total transactions\n",
    "fig.add_trace(\n",
    "    go.Bar(\n",
    "        x=not_100_merchants['merchant_id'],\n",
    "        y=not_100_merchants['total_transactions'],\n",
    "        name='Total',\n",
    "        marker_color='blue',\n",
    "        hovertemplate='Total Transactions: %{y}<extra></extra>',\n",
    "    ),\n",
    "    secondary_y=False,\n",
    ")\n",
    "\n",
    "# Adding the bar for the fraudulent transactions\n",
    "fig.add_trace(\n",
    "    go.Bar(\n",
    "        x=not_100_merchants['merchant_id'],\n",
    "        y=not_100_merchants['fraud'],\n",
    "        name='Fraud',\n",
    "        marker_color='orange',\n",
    "        hovertemplate='Fraud: %{y}<extra></extra>',\n",
    "    ),\n",
    "    secondary_y=False,\n",
    ")\n",
    "\n",
    "# Adding the line for the fraud rate\n",
    "fig.add_trace(\n",
    "    go.Scatter(\n",
    "        x=not_100_merchants['merchant_id'],\n",
    "        y=not_100_merchants['fraud_rate'],\n",
    "        name='Fraud Rate',\n",
    "        mode='lines+markers',\n",
    "        line=dict(color='red'),\n",
    "        hovertemplate='Fraud Rate: %{y}<extra></extra>',\n",
    "    ),\n",
    "    secondary_y=True,\n",
    ")\n",
    "\n",
    "# Layout configuration\n",
    "fig.update_layout(\n",
    "    title=\"Total Transactions vs Fraud Transactions per Merchant\",\n",
    "    xaxis_title=\"Merchant ID\",\n",
    "    yaxis_title=\"Number of Transactions\",\n",
    "    yaxis2_title=\"Fraud Rate\",\n",
    "    barmode='group',\n",
    "    legend=dict(\n",
    "        x=0.98,\n",
    "        y=0.98,\n",
    "        bgcolor='rgba(255, 255, 255, 0.5)',\n",
    "    ),\n",
    "    template=\"plotly_white\",\n",
    "    width=1000,\n",
    "    height=400,\n",
    ")\n",
    "\n",
    "# Axis configuration\n",
    "fig.update_xaxes(\n",
    "    tickangle=45,\n",
    "    type='category',\n",
    ")\n",
    "fig.show()"
   ]
  },
  {
   "cell_type": "code",
   "execution_count": 27,
   "metadata": {},
   "outputs": [],
   "source": [
    "# Calculating the sum transaction amount for each merchant\n",
    "merchants_amout = data.groupby('merchant_id')['transaction_amount'].mean()\n",
    "full_merchants = merchants_transactions.merge(merchants_amout.to_frame().reset_index(), on='merchant_id', how='left')\n",
    "full_merchants.sort_values(by='fraud', ascending=False, inplace=True)"
   ]
  },
  {
   "cell_type": "code",
   "execution_count": 28,
   "metadata": {},
   "outputs": [
    {
     "data": {
      "application/vnd.plotly.v1+json": {
       "config": {
        "plotlyServerURL": "https://plot.ly"
       },
       "data": [
        {
         "hovertemplate": "Count of transactions=%{x}<br>Count of frauds=%{y}<br>Fraud Rate=%{marker.size}<br>Mean Amount=%{marker.color}<extra></extra>",
         "legendgroup": "",
         "marker": {
          "color": {
           "bdata": "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",
           "dtype": "f8"
          },
          "coloraxis": "coloraxis",
          "size": {
           "bdata": "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",
           "dtype": "f8"
          },
          "sizemode": "area",
          "sizeref": 0.0011111111111111111,
          "symbol": "circle"
         },
         "mode": "markers",
         "name": "",
         "showlegend": false,
         "type": "scattergl",
         "x": {
          "bdata": "HhYPEw8LDgoKCwwKDAgIBgYHBgYGBQYFBQUEBAYGBQUGBwUFBAQKAwMDAwkIAwMDAgIIAwIGAgICAgIDAwMEAgICAQECAgEBAQEBAQECAgICAgMCAgsEBgcMAQEBAQQBAQEBAQEBAQEBAQEBAQEBAQEBAQEBAQEBEAEBAQQBAQEBCgoKCwsEAwMDAwMDAwEEBAQEBAQEBAQEBAMEBAQEARABDg8BAQEEAwMDAwMCBAQEAgIEAgICAwMDAwQEBAQEAgMDAwMDAwMDAwMDAwMDAwMDAwQEBAQEBAQDAwUFAgQEBAQEBAQCAwMDAwICAgICAgICAwMDAwMDAwMDAwMDAwMCAgQDAwMDAwMDAwMDAwMCAwICAgICAgICAgICBAQEBAQEBAQCAgICAgICAgICAgICAgICAgICAgICAgICAgICAgICAgICAgICAgMCAgICAgICAgICAgICBQUFBQQEBQIFBQUCAgICAgICAgICAgICBQICAgICAgICAQICAgICAgICAgICAQEBAQICAgICAgICAgICAgICAgICAgICAgICAgICAgICAgICAgICAgICBQICAgICAgICAgICAgICAgICAgICAgICAgICAgICAgICAgICAgICAgIGBgYFBQUCBQUFAgICAgICAgIFAgICBQUCAgICAgICAgICAgICAgICAgICAgUCAgICAgICAgEBAQEBAQEBAQEBAQEBAQEBAQEBAQEBAQEBAQEBAQEBAgIBAQEBAQEBAQEBAgECAQEBAQEBAQEBAQEBAQEBAQEBAQEBAQEBAQEBAQEBAQEBAQEBAQEBAQEBAQEBAQEBAQEBAQEBAQEBAQEBAQEBAQEBAQEBAQEBAQEBAQEBAQEBAQEBAQEBAQEBAQEBAQEBAQEBAQEBAQEBAQEBAQEBAQEBAQEBAQEBAQEBAQEBAQEBAQEBAQEBAQEBAQEBAQEBAQEBAQEBAQEBAQEBAQEBAQEBAQEBAQEBAQEBAQEBAQEBAQEBAQEBAQEBAQEBAQEBAQEBAQEBAQEBAQEBAQIBAQEBAQEBAQEBAQMDAwMDAwMDAwMBAQEBAQEBAQEBAQEBAQEBAQEBAQEBAQEBAQEBAQEBAQEBAQEBAQEBAQEBAQEBAQEBAQEBAQEBAQEBAQEBAQEBAQEBAQEBAQEBAQEBAQEBAQEBAQEBAQEBAQEBAQEBAQEBAQEBAQEBAQEBAQEBAQEBAQEBAQEBAQEBAQEBAQEBAQEFBQUBBgYBAQEBAQEBAQEBAQEBAQEBAQEBAQEBAQEBAQEBAQEBBQEBAQYBAQEBAQEHBwEBAQEBAQEBAQEBAQEBAQEBAQEBAQEBAQEBAQEBAQEBAQEBAQEBAQEBAQEBAQEBAQEBAQEBAQEBAQEBAQEBAQEBAQEBAQEBAQEBAQEBAQEBAQEBAQEBAQEBAQEBAQEBAQEBAQEBAQEBAQEBAQEBAQEBAQEBAQEBAQEBAQEBAQEBAQEBAQEBAQEBAQEBAQEBAQEBAQEBAQEBAQEBAQEBAQEBAQEBAQEBAQEBAQEBAQEBAQEBAQEBAQEBAQEBAQEBAQEBAQEBAQEBAQEBAQEBAQEBAQEBAQEBAQEBAQEBAQEBAQEBAQEBAQEBAQEBAQEBAQEBAQEBAQEBAQEBAQEBAQEBAQEBAQEBAQEBAQEBAQEBAQEGBgYBAQEBAQEBAQEBAQEBAQEBAQEBAQEBAQEBAQEBAQEBAQEBAQEBAQEBAQgICQYGAQEBAQEBAQEBAQEBAQEBBgEBAQEBAQEBAQEBAQEBAQEBAQEBAQEBAQEBAQEBAQEBAQEBAQEBAQEBAQEBAQEBAQEBAQEBAQEBAQEBAQEBAQEBAQEBAQEBAQEBAQEBAQEBAQEBAQEBAQEBAQEBAQEBAQEBAQEBAQEBAQEBAQEBAQEBAQEBAQEBAQEBAQEBAQEBAQEBAQEBAQEBAQEBAQEBAQEBAQEBAQEBAQEBAQEBAQEBAQEBAQEBAQEBAQEBAQEBAQEBAQEBAQEBAQEBAQEBAQEBAQEBAQEBAQEBAQEBAQEBAQEBAQEBAQEBAQEBAQEBAQEBAQEBAQEBAQEBAQEBAQEBAQEBAQEBAQEBAQEBAQEBAQEBAQEBAQEBAQEBAQEBAQEBAQEBAQEBAQEBAQEBAQEBAQEBAQEBAQEBAQEBAQEBAQEBAQEBAQEBAQEBAQEBAQEBAQEBAQEBAQEBAQEBAQEBAQEBCAgICAgBAQEBAQEBAQEBAQEBCAEBAQEBAQEBAQEBAQEBAQEBAQEBAQEBAQEBAQEBAQEBAQEBAQEBAQESAQEBAQEBAQEBAQEBAQEBAQEBAQEBAQEBAQEWSQwNAQEBAQEBAQ==",
          "dtype": "i1"
         },
         "xaxis": "x",
         "y": {
          "bdata": "FhMPDg0LCwoJCQgIBwcHBgYGBgYFBQUFBQUEBAQEBAQEBAMDAwMDAwMDAwMDAwMCAgICAgICAgICAgICAgICAgICAQEBAQEBAQEBAQEBAQEBAQEBAQEBAQEBAQEBAQEBAQEBAQEBAQEBAQEBAQEBAQEBAQEBAQAAAAAAAAAAAAAAAAAAAAAAAAAAAAAAAAAAAAAAAAAAAAAAAAAAAAAAAAAAAAAAAAAAAAAAAAAAAAAAAAAAAAAAAAAAAAAAAAAAAAAAAAAAAAAAAAAAAAAAAAAAAAAAAAAAAAAAAAAAAAAAAAAAAAAAAAAAAAAAAAAAAAAAAAAAAAAAAAAAAAAAAAAAAAAAAAAAAAAAAAAAAAAAAAAAAAAAAAAAAAAAAAAAAAAAAAAAAAAAAAAAAAAAAAAAAAAAAAAAAAAAAAAAAAAAAAAAAAAAAAAAAAAAAAAAAAAAAAAAAAAAAAAAAAAAAAAAAAAAAAAAAAAAAAAAAAAAAAAAAAAAAAAAAAAAAAAAAAAAAAAAAAAAAAAAAAAAAAAAAAAAAAAAAAAAAAAAAAAAAAAAAAAAAAAAAAAAAAAAAAAAAAAAAAAAAAAAAAAAAAAAAAAAAAAAAAAAAAAAAAAAAAAAAAAAAAAAAAAAAAAAAAAAAAAAAAAAAAAAAAAAAAAAAAAAAAAAAAAAAAAAAAAAAAAAAAAAAAAAAAAAAAAAAAAAAAAAAAAAAAAAAAAAAAAAAAAAAAAAAAAAAAAAAAAAAAAAAAAAAAAAAAAAAAAAAAAAAAAAAAAAAAAAAAAAAAAAAAAAAAAAAAAAAAAAAAAAAAAAAAAAAAAAAAAAAAAAAAAAAAAAAAAAAAAAAAAAAAAAAAAAAAAAAAAAAAAAAAAAAAAAAAAAAAAAAAAAAAAAAAAAAAAAAAAAAAAAAAAAAAAAAAAAAAAAAAAAAAAAAAAAAAAAAAAAAAAAAAAAAAAAAAAAAAAAAAAAAAAAAAAAAAAAAAAAAAAAAAAAAAAAAAAAAAAAAAAAAAAAAAAAAAAAAAAAAAAAAAAAAAAAAAAAAAAAAAAAAAAAAAAAAAAAAAAAAAAAAAAAAAAAAAAAAAAAAAAAAAAAAAAAAAAAAAAAAAAAAAAAAAAAAAAAAAAAAAAAAAAAAAAAAAAAAAAAAAAAAAAAAAAAAAAAAAAAAAAAAAAAAAAAAAAAAAAAAAAAAAAAAAAAAAAAAAAAAAAAAAAAAAAAAAAAAAAAAAAAAAAAAAAAAAAAAAAAAAAAAAAAAAAAAAAAAAAAAAAAAAAAAAAAAAAAAAAAAAAAAAAAAAAAAAAAAAAAAAAAAAAAAAAAAAAAAAAAAAAAAAAAAAAAAAAAAAAAAAAAAAAAAAAAAAAAAAAAAAAAAAAAAAAAAAAAAAAAAAAAAAAAAAAAAAAAAAAAAAAAAAAAAAAAAAAAAAAAAAAAAAAAAAAAAAAAAAAAAAAAAAAAAAAAAAAAAAAAAAAAAAAAAAAAAAAAAAAAAAAAAAAAAAAAAAAAAAAAAAAAAAAAAAAAAAAAAAAAAAAAAAAAAAAAAAAAAAAAAAAAAAAAAAAAAAAAAAAAAAAAAAAAAAAAAAAAAAAAAAAAAAAAAAAAAAAAAAAAAAAAAAAAAAAAAAAAAAAAAAAAAAAAAAAAAAAAAAAAAAAAAAAAAAAAAAAAAAAAAAAAAAAAAAAAAAAAAAAAAAAAAAAAAAAAAAAAAAAAAAAAAAAAAAAAAAAAAAAAAAAAAAAAAAAAAAAAAAAAAAAAAAAAAAAAAAAAAAAAAAAAAAAAAAAAAAAAAAAAAAAAAAAAAAAAAAAAAAAAAAAAAAAAAAAAAAAAAAAAAAAAAAAAAAAAAAAAAAAAAAAAAAAAAAAAAAAAAAAAAAAAAAAAAAAAAAAAAAAAAAAAAAAAAAAAAAAAAAAAAAAAAAAAAAAAAAAAAAAAAAAAAAAAAAAAAAAAAAAAAAAAAAAAAAAAAAAAAAAAAAAAAAAAAAAAAAAAAAAAAAAAAAAAAAAAAAAAAAAAAAAAAAAAAAAAAAAAAAAAAAAAAAAAAAAAAAAAAAAAAAAAAAAAAAAAAAAAAAAAAAAAAAAAAAAAAAAAAAAAAAAAAAAAAAAAAAAAAAAAAAAAAAAAAAAAAAAAAAAAAAAAAAAAAAAAAAAAAAAAAAAAAAAAAAAAAAAAAAAAAAAAAAAAAAAAAAAAAAAAAAAAAAAAAAAAAAAAAAAAAAAAAAAAAAAAAAAAAAAAAAAAAAAAAAAAAAAAAAAAAAAAAAAAAAAAAAAAAAAAAAAAAAAAAAAAAAAAAAAAAAAAAAAAAAAAAAAAAAAAAAAAAAAAAAAAAAAAAAAAAAAAAAAAAAAAAA==",
          "dtype": "i1"
         },
         "yaxis": "y"
        }
       ],
       "layout": {
        "annotations": [
         {
          "bgcolor": "white",
          "bordercolor": "black",
          "borderwidth": 1,
          "font": {
           "size": 12
          },
          "showarrow": false,
          "text": "Bubble size represents Fraud Rate",
          "x": 30,
          "y": 30
         }
        ],
        "coloraxis": {
         "colorbar": {
          "title": {
           "text": "Mean Amount"
          }
         },
         "colorscale": [
          [
           0,
           "#440154"
          ],
          [
           0.1111111111111111,
           "#482878"
          ],
          [
           0.2222222222222222,
           "#3e4989"
          ],
          [
           0.3333333333333333,
           "#31688e"
          ],
          [
           0.4444444444444444,
           "#26828e"
          ],
          [
           0.5555555555555556,
           "#1f9e89"
          ],
          [
           0.6666666666666666,
           "#35b779"
          ],
          [
           0.7777777777777778,
           "#6ece58"
          ],
          [
           0.8888888888888888,
           "#b5de2b"
          ],
          [
           1,
           "#fde725"
          ]
         ]
        },
        "height": 400,
        "hovermode": "closest",
        "legend": {
         "itemsizing": "constant",
         "tracegroupgap": 0
        },
        "template": {
         "data": {
          "bar": [
           {
            "error_x": {
             "color": "#2a3f5f"
            },
            "error_y": {
             "color": "#2a3f5f"
            },
            "marker": {
             "line": {
              "color": "white",
              "width": 0.5
             },
             "pattern": {
              "fillmode": "overlay",
              "size": 10,
              "solidity": 0.2
             }
            },
            "type": "bar"
           }
          ],
          "barpolar": [
           {
            "marker": {
             "line": {
              "color": "white",
              "width": 0.5
             },
             "pattern": {
              "fillmode": "overlay",
              "size": 10,
              "solidity": 0.2
             }
            },
            "type": "barpolar"
           }
          ],
          "carpet": [
           {
            "aaxis": {
             "endlinecolor": "#2a3f5f",
             "gridcolor": "#C8D4E3",
             "linecolor": "#C8D4E3",
             "minorgridcolor": "#C8D4E3",
             "startlinecolor": "#2a3f5f"
            },
            "baxis": {
             "endlinecolor": "#2a3f5f",
             "gridcolor": "#C8D4E3",
             "linecolor": "#C8D4E3",
             "minorgridcolor": "#C8D4E3",
             "startlinecolor": "#2a3f5f"
            },
            "type": "carpet"
           }
          ],
          "choropleth": [
           {
            "colorbar": {
             "outlinewidth": 0,
             "ticks": ""
            },
            "type": "choropleth"
           }
          ],
          "contour": [
           {
            "colorbar": {
             "outlinewidth": 0,
             "ticks": ""
            },
            "colorscale": [
             [
              0,
              "#0d0887"
             ],
             [
              0.1111111111111111,
              "#46039f"
             ],
             [
              0.2222222222222222,
              "#7201a8"
             ],
             [
              0.3333333333333333,
              "#9c179e"
             ],
             [
              0.4444444444444444,
              "#bd3786"
             ],
             [
              0.5555555555555556,
              "#d8576b"
             ],
             [
              0.6666666666666666,
              "#ed7953"
             ],
             [
              0.7777777777777778,
              "#fb9f3a"
             ],
             [
              0.8888888888888888,
              "#fdca26"
             ],
             [
              1,
              "#f0f921"
             ]
            ],
            "type": "contour"
           }
          ],
          "contourcarpet": [
           {
            "colorbar": {
             "outlinewidth": 0,
             "ticks": ""
            },
            "type": "contourcarpet"
           }
          ],
          "heatmap": [
           {
            "colorbar": {
             "outlinewidth": 0,
             "ticks": ""
            },
            "colorscale": [
             [
              0,
              "#0d0887"
             ],
             [
              0.1111111111111111,
              "#46039f"
             ],
             [
              0.2222222222222222,
              "#7201a8"
             ],
             [
              0.3333333333333333,
              "#9c179e"
             ],
             [
              0.4444444444444444,
              "#bd3786"
             ],
             [
              0.5555555555555556,
              "#d8576b"
             ],
             [
              0.6666666666666666,
              "#ed7953"
             ],
             [
              0.7777777777777778,
              "#fb9f3a"
             ],
             [
              0.8888888888888888,
              "#fdca26"
             ],
             [
              1,
              "#f0f921"
             ]
            ],
            "type": "heatmap"
           }
          ],
          "histogram": [
           {
            "marker": {
             "pattern": {
              "fillmode": "overlay",
              "size": 10,
              "solidity": 0.2
             }
            },
            "type": "histogram"
           }
          ],
          "histogram2d": [
           {
            "colorbar": {
             "outlinewidth": 0,
             "ticks": ""
            },
            "colorscale": [
             [
              0,
              "#0d0887"
             ],
             [
              0.1111111111111111,
              "#46039f"
             ],
             [
              0.2222222222222222,
              "#7201a8"
             ],
             [
              0.3333333333333333,
              "#9c179e"
             ],
             [
              0.4444444444444444,
              "#bd3786"
             ],
             [
              0.5555555555555556,
              "#d8576b"
             ],
             [
              0.6666666666666666,
              "#ed7953"
             ],
             [
              0.7777777777777778,
              "#fb9f3a"
             ],
             [
              0.8888888888888888,
              "#fdca26"
             ],
             [
              1,
              "#f0f921"
             ]
            ],
            "type": "histogram2d"
           }
          ],
          "histogram2dcontour": [
           {
            "colorbar": {
             "outlinewidth": 0,
             "ticks": ""
            },
            "colorscale": [
             [
              0,
              "#0d0887"
             ],
             [
              0.1111111111111111,
              "#46039f"
             ],
             [
              0.2222222222222222,
              "#7201a8"
             ],
             [
              0.3333333333333333,
              "#9c179e"
             ],
             [
              0.4444444444444444,
              "#bd3786"
             ],
             [
              0.5555555555555556,
              "#d8576b"
             ],
             [
              0.6666666666666666,
              "#ed7953"
             ],
             [
              0.7777777777777778,
              "#fb9f3a"
             ],
             [
              0.8888888888888888,
              "#fdca26"
             ],
             [
              1,
              "#f0f921"
             ]
            ],
            "type": "histogram2dcontour"
           }
          ],
          "mesh3d": [
           {
            "colorbar": {
             "outlinewidth": 0,
             "ticks": ""
            },
            "type": "mesh3d"
           }
          ],
          "parcoords": [
           {
            "line": {
             "colorbar": {
              "outlinewidth": 0,
              "ticks": ""
             }
            },
            "type": "parcoords"
           }
          ],
          "pie": [
           {
            "automargin": true,
            "type": "pie"
           }
          ],
          "scatter": [
           {
            "fillpattern": {
             "fillmode": "overlay",
             "size": 10,
             "solidity": 0.2
            },
            "type": "scatter"
           }
          ],
          "scatter3d": [
           {
            "line": {
             "colorbar": {
              "outlinewidth": 0,
              "ticks": ""
             }
            },
            "marker": {
             "colorbar": {
              "outlinewidth": 0,
              "ticks": ""
             }
            },
            "type": "scatter3d"
           }
          ],
          "scattercarpet": [
           {
            "marker": {
             "colorbar": {
              "outlinewidth": 0,
              "ticks": ""
             }
            },
            "type": "scattercarpet"
           }
          ],
          "scattergeo": [
           {
            "marker": {
             "colorbar": {
              "outlinewidth": 0,
              "ticks": ""
             }
            },
            "type": "scattergeo"
           }
          ],
          "scattergl": [
           {
            "marker": {
             "colorbar": {
              "outlinewidth": 0,
              "ticks": ""
             }
            },
            "type": "scattergl"
           }
          ],
          "scattermap": [
           {
            "marker": {
             "colorbar": {
              "outlinewidth": 0,
              "ticks": ""
             }
            },
            "type": "scattermap"
           }
          ],
          "scattermapbox": [
           {
            "marker": {
             "colorbar": {
              "outlinewidth": 0,
              "ticks": ""
             }
            },
            "type": "scattermapbox"
           }
          ],
          "scatterpolar": [
           {
            "marker": {
             "colorbar": {
              "outlinewidth": 0,
              "ticks": ""
             }
            },
            "type": "scatterpolar"
           }
          ],
          "scatterpolargl": [
           {
            "marker": {
             "colorbar": {
              "outlinewidth": 0,
              "ticks": ""
             }
            },
            "type": "scatterpolargl"
           }
          ],
          "scatterternary": [
           {
            "marker": {
             "colorbar": {
              "outlinewidth": 0,
              "ticks": ""
             }
            },
            "type": "scatterternary"
           }
          ],
          "surface": [
           {
            "colorbar": {
             "outlinewidth": 0,
             "ticks": ""
            },
            "colorscale": [
             [
              0,
              "#0d0887"
             ],
             [
              0.1111111111111111,
              "#46039f"
             ],
             [
              0.2222222222222222,
              "#7201a8"
             ],
             [
              0.3333333333333333,
              "#9c179e"
             ],
             [
              0.4444444444444444,
              "#bd3786"
             ],
             [
              0.5555555555555556,
              "#d8576b"
             ],
             [
              0.6666666666666666,
              "#ed7953"
             ],
             [
              0.7777777777777778,
              "#fb9f3a"
             ],
             [
              0.8888888888888888,
              "#fdca26"
             ],
             [
              1,
              "#f0f921"
             ]
            ],
            "type": "surface"
           }
          ],
          "table": [
           {
            "cells": {
             "fill": {
              "color": "#EBF0F8"
             },
             "line": {
              "color": "white"
             }
            },
            "header": {
             "fill": {
              "color": "#C8D4E3"
             },
             "line": {
              "color": "white"
             }
            },
            "type": "table"
           }
          ]
         },
         "layout": {
          "annotationdefaults": {
           "arrowcolor": "#2a3f5f",
           "arrowhead": 0,
           "arrowwidth": 1
          },
          "autotypenumbers": "strict",
          "coloraxis": {
           "colorbar": {
            "outlinewidth": 0,
            "ticks": ""
           }
          },
          "colorscale": {
           "diverging": [
            [
             0,
             "#8e0152"
            ],
            [
             0.1,
             "#c51b7d"
            ],
            [
             0.2,
             "#de77ae"
            ],
            [
             0.3,
             "#f1b6da"
            ],
            [
             0.4,
             "#fde0ef"
            ],
            [
             0.5,
             "#f7f7f7"
            ],
            [
             0.6,
             "#e6f5d0"
            ],
            [
             0.7,
             "#b8e186"
            ],
            [
             0.8,
             "#7fbc41"
            ],
            [
             0.9,
             "#4d9221"
            ],
            [
             1,
             "#276419"
            ]
           ],
           "sequential": [
            [
             0,
             "#0d0887"
            ],
            [
             0.1111111111111111,
             "#46039f"
            ],
            [
             0.2222222222222222,
             "#7201a8"
            ],
            [
             0.3333333333333333,
             "#9c179e"
            ],
            [
             0.4444444444444444,
             "#bd3786"
            ],
            [
             0.5555555555555556,
             "#d8576b"
            ],
            [
             0.6666666666666666,
             "#ed7953"
            ],
            [
             0.7777777777777778,
             "#fb9f3a"
            ],
            [
             0.8888888888888888,
             "#fdca26"
            ],
            [
             1,
             "#f0f921"
            ]
           ],
           "sequentialminus": [
            [
             0,
             "#0d0887"
            ],
            [
             0.1111111111111111,
             "#46039f"
            ],
            [
             0.2222222222222222,
             "#7201a8"
            ],
            [
             0.3333333333333333,
             "#9c179e"
            ],
            [
             0.4444444444444444,
             "#bd3786"
            ],
            [
             0.5555555555555556,
             "#d8576b"
            ],
            [
             0.6666666666666666,
             "#ed7953"
            ],
            [
             0.7777777777777778,
             "#fb9f3a"
            ],
            [
             0.8888888888888888,
             "#fdca26"
            ],
            [
             1,
             "#f0f921"
            ]
           ]
          },
          "colorway": [
           "#636efa",
           "#EF553B",
           "#00cc96",
           "#ab63fa",
           "#FFA15A",
           "#19d3f3",
           "#FF6692",
           "#B6E880",
           "#FF97FF",
           "#FECB52"
          ],
          "font": {
           "color": "#2a3f5f"
          },
          "geo": {
           "bgcolor": "white",
           "lakecolor": "white",
           "landcolor": "white",
           "showlakes": true,
           "showland": true,
           "subunitcolor": "#C8D4E3"
          },
          "hoverlabel": {
           "align": "left"
          },
          "hovermode": "closest",
          "mapbox": {
           "style": "light"
          },
          "paper_bgcolor": "white",
          "plot_bgcolor": "white",
          "polar": {
           "angularaxis": {
            "gridcolor": "#EBF0F8",
            "linecolor": "#EBF0F8",
            "ticks": ""
           },
           "bgcolor": "white",
           "radialaxis": {
            "gridcolor": "#EBF0F8",
            "linecolor": "#EBF0F8",
            "ticks": ""
           }
          },
          "scene": {
           "xaxis": {
            "backgroundcolor": "white",
            "gridcolor": "#DFE8F3",
            "gridwidth": 2,
            "linecolor": "#EBF0F8",
            "showbackground": true,
            "ticks": "",
            "zerolinecolor": "#EBF0F8"
           },
           "yaxis": {
            "backgroundcolor": "white",
            "gridcolor": "#DFE8F3",
            "gridwidth": 2,
            "linecolor": "#EBF0F8",
            "showbackground": true,
            "ticks": "",
            "zerolinecolor": "#EBF0F8"
           },
           "zaxis": {
            "backgroundcolor": "white",
            "gridcolor": "#DFE8F3",
            "gridwidth": 2,
            "linecolor": "#EBF0F8",
            "showbackground": true,
            "ticks": "",
            "zerolinecolor": "#EBF0F8"
           }
          },
          "shapedefaults": {
           "line": {
            "color": "#2a3f5f"
           }
          },
          "ternary": {
           "aaxis": {
            "gridcolor": "#DFE8F3",
            "linecolor": "#A2B1C6",
            "ticks": ""
           },
           "baxis": {
            "gridcolor": "#DFE8F3",
            "linecolor": "#A2B1C6",
            "ticks": ""
           },
           "bgcolor": "white",
           "caxis": {
            "gridcolor": "#DFE8F3",
            "linecolor": "#A2B1C6",
            "ticks": ""
           }
          },
          "title": {
           "x": 0.05
          },
          "xaxis": {
           "automargin": true,
           "gridcolor": "#EBF0F8",
           "linecolor": "#EBF0F8",
           "ticks": "",
           "title": {
            "standoff": 15
           },
           "zerolinecolor": "#EBF0F8",
           "zerolinewidth": 2
          },
          "yaxis": {
           "automargin": true,
           "gridcolor": "#EBF0F8",
           "linecolor": "#EBF0F8",
           "ticks": "",
           "title": {
            "standoff": 15
           },
           "zerolinecolor": "#EBF0F8",
           "zerolinewidth": 2
          }
         }
        },
        "title": {
         "font": {
          "size": 20
         },
         "text": "Transactions vs Frauds per Merchant",
         "x": 0.5
        },
        "width": 1000,
        "xaxis": {
         "anchor": "y",
         "domain": [
          0,
          1
         ],
         "range": [
          -3,
          35
         ],
         "title": {
          "text": "Count of transactions"
         }
        },
        "yaxis": {
         "anchor": "x",
         "domain": [
          0,
          1
         ],
         "range": [
          -2,
          30
         ],
         "title": {
          "text": "Count of frauds"
         }
        }
       }
      }
     },
     "metadata": {},
     "output_type": "display_data"
    }
   ],
   "source": [
    "# Creating a scatter plot with the number of transactions, number of frauds, fraud rate and transaction amount for each merchant\n",
    "fig = px.scatter(\n",
    "    full_merchants,\n",
    "    x='total_transactions',\n",
    "    y='fraud',\n",
    "    size='fraud_rate',\n",
    "    color='transaction_amount',\n",
    "    size_max=30,\n",
    "    color_continuous_scale='viridis',\n",
    "    title='Transactions vs Frauds per Merchant',\n",
    "    labels={\n",
    "        'total_transactions': 'Count of transactions',\n",
    "        'fraud': 'Count of frauds',\n",
    "        'fraud_rate': 'Fraud Rate',\n",
    "        'transaction_amount': 'Mean Amount'\n",
    "    }\n",
    ")\n",
    "\n",
    "# Adding the merchant ID in the hover\n",
    "fig.update_layout(\n",
    "    xaxis_title='Count of transactions',\n",
    "    yaxis_title='Count of frauds',\n",
    "    title_font_size=20,\n",
    "    title_x=0.5,\n",
    "    hovermode='closest',\n",
    "    template='plotly_white',\n",
    "    width=1000,\n",
    "    height=400,\n",
    ")\n",
    "\n",
    "fig.update_xaxes(range=[-3, 35])\n",
    "fig.update_yaxes(range=[-2, 30])\n",
    "\n",
    "fig.add_annotation(\n",
    "    x=30, y=30,  # Posição aproximada da anotação no gráfico\n",
    "    text=\"Bubble size represents Fraud Rate\",\n",
    "    showarrow=False,\n",
    "    font=dict(size=12),\n",
    "    bgcolor=\"white\",\n",
    "    bordercolor=\"black\",\n",
    "    borderwidth=1\n",
    ")\n",
    "\n",
    "fig.show()"
   ]
  },
  {
   "cell_type": "markdown",
   "metadata": {},
   "source": [
    "##### Device Analysis"
   ]
  },
  {
   "cell_type": "markdown",
   "metadata": {},
   "source": [
    "**1. Unique users != Unique devices**\n",
    "\n",
    "```\n",
    "Unique devices: 1996\n",
    "Unique users: 1968\n",
    "```\n",
    "\n",
    "Since the number of devices is greater than the number of users, some users are using more than one device. It's a potencial flag?\n",
    "\n",
    "**Users with more than one device**\n",
    "* **24** users have more than one device.\n",
    "* These users represent **1.22%** of the total user base (**24/1968**).\n",
    "* The fraud proportion among these users is **54.17%**, which is extremely high.\n",
    "* Insight: Users with multiple devices are significantly more likely to be involved in fraudulent activities.\n",
    "\n",
    "**Users with only one device**\n",
    "* **1944** users have only one device.\n",
    "* These users represent **98.78%** of the total user base (**1944/1968**).\n",
    "* The fraud proportion among these users is **5.5%**, which is relatively low.\n",
    "* Insight: The vast majority of users with a single device exhibit normal behavior, with a low incidence of fraud.\n",
    "\n",
    "**Possible explanations:**\n",
    "* **Device sharing:** Users with multiple devices may be sharing accounts or devices with others, increasing the risk of fraudulent activities.\n",
    "* **Organized fraud:** Users with multiple devices may be involved in organized fraud schemes, where multiple devices are used to carry out fraudulent transactions.\n",
    "* **Legitimate use:** Although less likely, some users may have legitimate reasons for using multiple devices (e.g., personal and corporate devices).\n",
    "\n",
    "**Recommendations:**\n",
    "* Rigorous monitoring: Users with multiple devices should be closely monitored, given the high fraud proportion in this group.\n",
    "* Additional verification: Implement additional checks (such as two-factor authentication) for users who use more than one device.\n",
    "\n",
    "**2. Missing values:**\n",
    "As mentioned earlier, we have some missing values related to **`device_id`**. Let's investigate whether this could indicate suspicious behavior.\n",
    "\n",
    "Let's perform a hypothesis test:\n",
    "\n",
    "* Null Hypothesis (H₀): \"There is no difference in the proportion of frauds between the two groups\"\n",
    "\n",
    "* Alternative Hypothesis (H₁): \"There is a difference in the proportion of frauds between the two groups\"\n",
    "\n",
    "* Group 1 (No device info): \n",
    "  - Size: 830\n",
    "  - Frauds: 67\n",
    "\n",
    "* Group 2 (Device info):\n",
    "  - Size: 2369\n",
    "  - 324\n",
    "\n",
    "* Results:\n",
    "  - Z-Statistic: -4.2420\n",
    "  - P-Value: 0.0000\n",
    "\n",
    "**Key Insights:**\n",
    "* The p-value obtained is 0.0000, which is less than the significance level of 0.05. This allows us to reject the null hypothesis.\n",
    "* We conclude that there is a statistically significant difference in the proportion of fraudulent transactions between the two groups."
   ]
  },
  {
   "cell_type": "code",
   "execution_count": 29,
   "metadata": {},
   "outputs": [
    {
     "name": "stdout",
     "output_type": "stream",
     "text": [
      "Unique devices: 1996\n",
      "Unique users: 1968\n"
     ]
    }
   ],
   "source": [
    "device_transaction_count = data.groupby('device_id').size().reset_index(name='total_transactions')\n",
    "device_owner = data.groupby(['device_id', 'user_id']).size().reset_index(name='count')\n",
    "\n",
    "fraudulent_transactions_per_device = device_transaction_count.loc[data['has_cbk'] == True]\n",
    "fraudulent_device_count = fraudulent_transactions_per_device.groupby('device_id').size().reset_index(name='fraudulent_transactions')\n",
    "\n",
    "device_analysis = pd.merge(device_transaction_count, fraudulent_device_count, on='device_id', how='left')\n",
    "device_analysis['fraudulent_transactions'] = device_analysis['fraudulent_transactions'].fillna(0)\n",
    "\n",
    "# Ordenar por total de transações\n",
    "most_active_devices = device_analysis.sort_values(by='total_transactions', ascending=False)\n",
    "\n",
    "# Ordenar por transações fraudulentas\n",
    "most_fraudulent_devices = device_analysis.sort_values(by='fraudulent_transactions', ascending=False)\n",
    "\n",
    "print(f\"Unique devices: {device_owner['device_id'].nunique()}\")\n",
    "print(f\"Unique users: {device_owner['user_id'].nunique() }\")"
   ]
  },
  {
   "cell_type": "code",
   "execution_count": 30,
   "metadata": {},
   "outputs": [],
   "source": [
    "# Grouping the data by user_id and counting the number of unique devices\n",
    "user_device_count = data.groupby('user_id')['device_id'].nunique().reset_index(name='num_devices')\n",
    "\n",
    "# Filtering the users with more than one device\n",
    "users_with_multiple_devices = user_device_count[user_device_count['num_devices'] > 1]\n",
    "users_with_one_device = user_device_count[user_device_count['num_devices'] == 1]\n",
    "\n",
    "# Verifying if the user has at least one fraudulent transaction\n",
    "user_has_cbk = data.groupby('user_id')['has_cbk'].any().reset_index(name='has_any_cbk')\n",
    "\n",
    "# Merging the data to verify if the user has at least one fraudulent transaction\n",
    "users_with_multiple_devices = pd.merge(\n",
    "    users_with_multiple_devices,\n",
    "    user_has_cbk,\n",
    "    on='user_id',\n",
    "    how='left'\n",
    ")\n",
    "\n",
    "users_with_one_device = pd.merge(\n",
    "    users_with_one_device,\n",
    "    user_has_cbk,\n",
    "    on='user_id',\n",
    "    how='left'\n",
    ")"
   ]
  },
  {
   "cell_type": "code",
   "execution_count": 31,
   "metadata": {},
   "outputs": [
    {
     "data": {
      "text/plain": [
       "(24, 1944)"
      ]
     },
     "execution_count": 31,
     "metadata": {},
     "output_type": "execute_result"
    }
   ],
   "source": [
    "len(users_with_multiple_devices), len(users_with_one_device)"
   ]
  },
  {
   "cell_type": "code",
   "execution_count": 69,
   "metadata": {},
   "outputs": [
    {
     "data": {
      "text/plain": [
       "(has_any_cbk\n",
       " True     0.541667\n",
       " False    0.458333\n",
       " Name: proportion, dtype: float64,\n",
       " has_any_cbk\n",
       " False    0.944444\n",
       " True     0.055556\n",
       " Name: proportion, dtype: float64)"
      ]
     },
     "execution_count": 69,
     "metadata": {},
     "output_type": "execute_result"
    }
   ],
   "source": [
    "proportion_multiple_devices = users_with_multiple_devices['has_any_cbk'].value_counts(normalize=True)\n",
    "proportion_one_device = users_with_one_device['has_any_cbk'].value_counts(normalize=True)\n",
    "proportion_multiple_devices, proportion_one_device"
   ]
  },
  {
   "cell_type": "code",
   "execution_count": 33,
   "metadata": {},
   "outputs": [
    {
     "data": {
      "text/plain": [
       "0"
      ]
     },
     "execution_count": 33,
     "metadata": {},
     "output_type": "execute_result"
    }
   ],
   "source": [
    "# Grouping the data by device_id and counting the number of unique users\n",
    "device_user_count = data.groupby('device_id')['user_id'].nunique().reset_index(name='num_users')\n",
    "\n",
    "# Filtering devices with more than one user\n",
    "devices_with_multiple_users = device_user_count[device_user_count['num_users'] > 1]\n",
    "\n",
    "len(devices_with_multiple_users)"
   ]
  },
  {
   "cell_type": "code",
   "execution_count": 90,
   "metadata": {},
   "outputs": [
    {
     "data": {
      "image/png": "[encoded data removed]",
      "text/plain": [
       "<Figure size 1200x400 with 2 Axes>"
      ]
     },
     "metadata": {},
     "output_type": "display_data"
    }
   ],
   "source": [
    "\n",
    "# Checking devices with no information about the device\n",
    "\n",
    "no_device_info = data[data['device_id'].isna()]\n",
    "chargeback_counts = no_device_info['has_cbk'].value_counts()\n",
    "\n",
    "fig, ax = plt.subplots(1, 2, figsize=(12, 4))\n",
    "\n",
    "# Plotting the barplot about the chargeback in transactions with no device information\n",
    "sns.barplot(\n",
    "    x=chargeback_counts.index,\n",
    "    y=chargeback_counts.values,\n",
    "    ax=ax[0]\n",
    ")\n",
    "ax[0].set_title('Chargeback in transactions with no device information')\n",
    "ax[0].set_ylabel('Number of transactions')\n",
    "ax[0].set_xlabel('Has Chargeback fraud')\n",
    "ax[0].set_xticks([0, 1])\n",
    "ax[0].set_xticklabels(['No', 'Yes'])\n",
    "\n",
    "# Plotting the barplot about the chargeback in transactions with device information\n",
    "sns.barplot(\n",
    "    x=data.dropna()['has_cbk'], y=data.dropna()['has_cbk'].value_counts(), ax=ax[1]\n",
    ")\n",
    "ax[1].set_title('Chargeback in transactions with device information')\n",
    "ax[1].set_ylabel('Number of transactions')\n",
    "ax[1].set_xlabel('Has Chargeback fraud')\n",
    "ax[1].set_xticks([0, 1])\n",
    "ax[1].set_xticklabels(['No', 'Yes'])\n",
    "\n",
    "\n",
    "fig.tight_layout()\n",
    "plt.show()"
   ]
  },
  {
   "cell_type": "code",
   "execution_count": 87,
   "metadata": {},
   "outputs": [
    {
     "name": "stdout",
     "output_type": "stream",
     "text": [
      "Number of fraudulent transactions with missing device_id: 67\n",
      "Number of fraudulent transactions with filled device_id: 324\n",
      "Number of transactions with missing device_id: 830\n",
      "Number of transactions with filled device_id: 2369\n",
      "Z-Statistic: -4.2420\n",
      "P-Value: 0.0000\n",
      "Rejection of the null hypothesis: there is enough evidence to say that there is a significant difference.\n"
     ]
    }
   ],
   "source": [
    "# Group 1 - Transactions with missing device_id\n",
    "fraud_missing_device = data[data['device_id'].isna()]['has_cbk']\n",
    "# Group 2 - Transactions with filled device_id\n",
    "fraud_filled_device = data[data['device_id'].notna()]['has_cbk']\n",
    "\n",
    "count = [fraud_missing_device.sum(), fraud_filled_device.sum()]\n",
    "nobs = [len(fraud_missing_device), len(fraud_filled_device)]\n",
    "\n",
    "print(f\"Number of fraudulent transactions with missing device_id: {count[0]}\")\n",
    "print(f\"Number of fraudulent transactions with filled device_id: {count[1]}\")\n",
    "\n",
    "print(f\"Number of transactions with missing device_id: {nobs[0]}\")\n",
    "print(f\"Number of transactions with filled device_id: {nobs[1]}\")\n",
    "\n",
    "\n",
    "# Hypothesis testing\n",
    "# H0: There is no difference in the proportion of frauds between the two groups\n",
    "# H1: There is a difference in the proportion of frauds between the two groups\n",
    "\n",
    "z_stat, p_value = proportions_ztest(count, nobs)\n",
    "\n",
    "print(f\"Z-Statistic: {z_stat:.4f}\")\n",
    "print(f\"P-Value: {p_value:.4f}\")\n",
    "\n",
    "# Interpretation of the p-value\n",
    "if p_value < 0.05:\n",
    "    print(\"Rejection of the null hypothesis: there is enough evidence to say that there is a significant difference.\")\n",
    "else:\n",
    "    print(\"Fail to reject the null hypothesis: there is not enough evidence to say that there is a significant difference.\")"
   ]
  },
  {
   "cell_type": "markdown",
   "metadata": {},
   "source": [
    "##### Diving deeper:  **`transaction_date`**"
   ]
  },
  {
   "cell_type": "code",
   "execution_count": 29,
   "metadata": {},
   "outputs": [
    {
     "data": {
      "image/png": "[encoded data removed]",
      "text/plain": [
       "<Figure size 800x500 with 1 Axes>"
      ]
     },
     "metadata": {},
     "output_type": "display_data"
    }
   ],
   "source": [
    "# Number of transactions per day\n",
    "transaction_per_day = data.set_index('transaction_date').resample('D').count()['transaction_id']\n",
    "fraudulent_transactions_per_day = fraudulent_transactions.set_index('transaction_date').resample('D').count()['transaction_id']\n",
    "non_fraudulent_transactions_per_day = non_fraudulent_transactions.set_index('transaction_date').resample('D').count()['transaction_id']\n",
    "\n",
    "# Plotting the number of transactions per day\n",
    "plt.figure(figsize=(8, 5))\n",
    "\n",
    "sns.lineplot(x=transaction_per_day.index, y=transaction_per_day.values, label='All transactions')\n",
    "sns.lineplot(x=fraudulent_transactions_per_day.index, y=fraudulent_transactions_per_day.values, label='Fraudulent transactions')\n",
    "sns.lineplot(x=non_fraudulent_transactions_per_day.index, y=non_fraudulent_transactions_per_day.values, label='Non-fraudulent transactions')\n",
    "\n",
    "plt.title(\"Number of transactions per day\", fontsize=14)\n",
    "plt.xlabel(\"Date\", fontsize=12)\n",
    "plt.ylabel(\"Number of transactions\", fontsize=12)\n",
    "plt.xticks(rotation=45, ha='right')\n",
    "\n",
    "ax = plt.gca()\n",
    "ax.xaxis.set_major_locator(mdates.DayLocator(interval=2))\n",
    "ax.xaxis.set_major_formatter(mdates.DateFormatter('%m-%d'))\n",
    "\n",
    "plt.legend(fontsize=10)\n",
    "\n",
    "plt.tight_layout()\n",
    "plt.show()"
   ]
  },
  {
   "cell_type": "code",
   "execution_count": 30,
   "metadata": {},
   "outputs": [
    {
     "data": {
      "image/png": "[encoded data removed]",
      "text/plain": [
       "<Figure size 800x500 with 1 Axes>"
      ]
     },
     "metadata": {},
     "output_type": "display_data"
    }
   ],
   "source": [
    "data_peak = data[(data['transaction_date'] >= '2019-11-21') & (data['transaction_date'] <= '2019-11-24')]\n",
    "fraudulent_data_peak = fraudulent_transactions[(fraudulent_transactions['transaction_date'] >= '2019-11-21') & (fraudulent_transactions['transaction_date'] <= '2019-11-24')]\n",
    "non_fraudulent_data_peak = non_fraudulent_transactions[(non_fraudulent_transactions['transaction_date'] >= '2019-11-21') & (non_fraudulent_transactions['transaction_date'] <= '2019-11-24')]\n",
    "\n",
    "# Number of transactions per day\n",
    "transaction_per_day_peak = data_peak.set_index('transaction_date').resample('h').count()['transaction_id']\n",
    "fraudulent_transactions_per_day_peak = fraudulent_data_peak.set_index('transaction_date').resample('h').count()['transaction_id']\n",
    "non_fraudulent_transactions_per_day_peak = non_fraudulent_data_peak.set_index('transaction_date').resample('h').count()['transaction_id']\n",
    "\n",
    "# Plotting the number of transactions per day\n",
    "plt.figure(figsize=(8, 5))\n",
    "\n",
    "sns.lineplot(x=transaction_per_day_peak.index, y=transaction_per_day_peak.values, label='All transactions')\n",
    "sns.lineplot(x=fraudulent_transactions_per_day_peak.index, y=fraudulent_transactions_per_day_peak.values, label='Fraudulent transactions')\n",
    "sns.lineplot(x=non_fraudulent_transactions_per_day_peak.index, y=non_fraudulent_transactions_per_day_peak.values, label='Non-fraudulent transactions')\n",
    "\n",
    "plt.title(\"Number of transactions per hour during the peak days\", fontsize=14)\n",
    "plt.xlabel(\"Date\", fontsize=12)\n",
    "plt.ylabel(\"Number of transactions\", fontsize=12)\n",
    "plt.xticks(rotation=45, ha='right')\n",
    "\n",
    "ax = plt.gca()\n",
    "ax.xaxis.set_major_locator(mdates.HourLocator(interval=4))\n",
    "ax.xaxis.set_major_formatter(mdates.DateFormatter('%d %H:%M'))\n",
    "\n",
    "plt.legend(fontsize=10)\n",
    "\n",
    "plt.tight_layout()\n",
    "plt.show()"
   ]
  }
 ],
 "metadata": {
  "kernelspec": {
   "display_name": "risk-analysis",
   "language": "python",
   "name": "python3"
  },
  "language_info": {
   "codemirror_mode": {
    "name": "ipython",
    "version": 3
   },
   "file_extension": ".py",
   "mimetype": "text/x-python",
   "name": "python",
   "nbconvert_exporter": "python",
   "pygments_lexer": "ipython3",
   "version": "3.10.6"
  }
 },
 "nbformat": 4,
 "nbformat_minor": 2
}
